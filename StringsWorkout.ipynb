{
 "cells": [
  {
   "cell_type": "code",
   "execution_count": 1,
   "metadata": {},
   "outputs": [
    {
     "name": "stdout",
     "output_type": "stream",
     "text": [
      "Iam Playing Football\n"
     ]
    }
   ],
   "source": [
    "import re\n",
    "\n",
    "string = 'i9am pla*ying! footbal-l'\n",
    "\n",
    "# Remove non-alphabetic characters except spaces\n",
    "cleaned_string = re.sub(r'[^a-zA-Z ]', '', string)\n",
    "\n",
    "# Add spaces where words may have been merged (basic fix)\n",
    "cleaned_string = re.sub(r'([a-z])([A-Z])', r'\\1 \\2', cleaned_string)  # Handles camel case\n",
    "cleaned_string = re.sub(r'([a-z])([A-Z])', r'\\1 \\2', cleaned_string)  # Run twice for safety\n",
    "\n",
    "# Capitalize each word\n",
    "final_string = ' '.join(cleaned_string.split()).title()\n",
    "\n",
    "print(final_string)"
   ]
  },
  {
   "cell_type": "code",
   "execution_count": 3,
   "metadata": {},
   "outputs": [],
   "source": [
    "cleaned_string = re.sub(r'[^a-zA-Z]', '', string)  # Remove all non-alphabetic characters"
   ]
  },
  {
   "cell_type": "code",
   "execution_count": 2,
   "metadata": {},
   "outputs": [
    {
     "name": "stdout",
     "output_type": "stream",
     "text": [
      "2a1b3c1a\n"
     ]
    }
   ],
   "source": [
    "def run_length_encoding(s):\n",
    "    encoded = []\n",
    "    i = 0\n",
    "\n",
    "    while i < len(s):\n",
    "        count = 1  # Start counting occurrences of the current character\n",
    "        while i + 1 < len(s) and s[i] == s[i + 1]:  # Check for consecutive characters\n",
    "            count += 1\n",
    "            i += 1\n",
    "        encoded.append(f\"{count}{s[i]}\")  # Append count and character\n",
    "        i += 1\n",
    "\n",
    "    return ''.join(encoded)\n",
    "\n",
    "# Example\n",
    "string = 'aabccca'\n",
    "compressed_string = run_length_encoding(string)\n",
    "print(compressed_string)\n"
   ]
  },
  {
   "cell_type": "code",
   "execution_count": null,
   "metadata": {},
   "outputs": [],
   "source": []
  }
 ],
 "metadata": {
  "kernelspec": {
   "display_name": "Python 3",
   "language": "python",
   "name": "python3"
  },
  "language_info": {
   "codemirror_mode": {
    "name": "ipython",
    "version": 3
   },
   "file_extension": ".py",
   "mimetype": "text/x-python",
   "name": "python",
   "nbconvert_exporter": "python",
   "pygments_lexer": "ipython3",
   "version": "3.8.5"
  }
 },
 "nbformat": 4,
 "nbformat_minor": 4
}
