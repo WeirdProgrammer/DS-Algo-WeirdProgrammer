{
 "cells": [
  {
   "cell_type": "code",
   "execution_count": 1,
   "id": "a2ea65bb",
   "metadata": {},
   "outputs": [],
   "source": [
    "graph = [\n",
    "    [0,0,0,0,0],\n",
    "    [0,0,0,0,0],\n",
    "    [0,0,0,0,0]\n",
    "]"
   ]
  },
  {
   "cell_type": "code",
   "execution_count": 4,
   "id": "c7ee0284",
   "metadata": {},
   "outputs": [],
   "source": [
    "def createPlus(graph):\n",
    "    n, m = len(graph), len(graph[0])\n",
    "    print(f'n : {n}, m : {m}')\n",
    "    for i in range(n):\n",
    "        while \n",
    "        "
   ]
  },
  {
   "cell_type": "code",
   "execution_count": 5,
   "id": "3a038811",
   "metadata": {},
   "outputs": [
    {
     "name": "stdout",
     "output_type": "stream",
     "text": [
      "n : 3, m : 5\n"
     ]
    }
   ],
   "source": [
    "createPlus(graph)"
   ]
  },
  {
   "cell_type": "code",
   "execution_count": 9,
   "id": "a925dc34",
   "metadata": {},
   "outputs": [
    {
     "data": {
      "text/plain": [
       "2"
      ]
     },
     "execution_count": 9,
     "metadata": {},
     "output_type": "execute_result"
    }
   ],
   "source": [
    "len(graph[0]) // 2"
   ]
  },
  {
   "cell_type": "code",
   "execution_count": 10,
   "id": "83465723",
   "metadata": {},
   "outputs": [
    {
     "name": "stdout",
     "output_type": "stream",
     "text": [
      "[0, 0, 1, 0, 0]\n",
      "[0, 1, 1, 1, 0]\n",
      "[0, 0, 1, 0, 0]\n"
     ]
    }
   ],
   "source": [
    "# Define the graph size\n",
    "graph = [\n",
    "    [0,0,0,0,0],\n",
    "    [0,0,0,0,0],\n",
    "    [0,0,0,0,0]\n",
    "]\n",
    "\n",
    "# Get the dimensions\n",
    "rows = len(graph)\n",
    "cols = len(graph[0])\n",
    "\n",
    "# Find the center position\n",
    "center_row = rows // 2\n",
    "center_col = cols // 2\n",
    "\n",
    "# Modify the graph to create a plus shape\n",
    "graph[center_row][center_col] = 1  # Center\n",
    "if center_row - 1 >= 0:\n",
    "    graph[center_row - 1][center_col] = 1  # Top\n",
    "if center_row + 1 < rows:\n",
    "    graph[center_row + 1][center_col] = 1  # Bottom\n",
    "if center_col - 1 >= 0:\n",
    "    graph[center_row][center_col - 1] = 1  # Left\n",
    "if center_col + 1 < cols:\n",
    "    graph[center_row][center_col + 1] = 1  # Right\n",
    "\n",
    "# Print the updated graph\n",
    "for row in graph:\n",
    "    print(row)\n"
   ]
  },
  {
   "cell_type": "code",
   "execution_count": 11,
   "id": "b8afa8eb",
   "metadata": {},
   "outputs": [
    {
     "name": "stdout",
     "output_type": "stream",
     "text": [
      "[1, 1, 1, 1, 1]\n",
      "[1, 1, 1, 1, 1]\n",
      "[1, 1, 1, 1, 1]\n"
     ]
    }
   ],
   "source": [
    "def dfs(graph, x, y, visited):\n",
    "    if x < 0 or x >= len(graph) or y < 0 or y >= len(graph[0]) or visited[x][y]:\n",
    "        return\n",
    "    \n",
    "    # Mark the cell as visited\n",
    "    visited[x][y] = True\n",
    "    graph[x][y] = 1  # Set cell to 1 to form a plus shape\n",
    "\n",
    "    # Move in four directions (up, down, left, right)\n",
    "    dfs(graph, x - 1, y, visited)  # Up\n",
    "    dfs(graph, x + 1, y, visited)  # Down\n",
    "    dfs(graph, x, y - 1, visited)  # Left\n",
    "    dfs(graph, x, y + 1, visited)  # Right\n",
    "    \n",
    "    \n",
    "# Define the graph\n",
    "graph = [\n",
    "    [0,0,0,0,0],\n",
    "    [0,0,0,0,0],\n",
    "    [0,0,0,0,0]\n",
    "]\n",
    "\n",
    "# Get the center of the graph\n",
    "center_x = len(graph) // 2\n",
    "center_y = len(graph[0]) // 2\n",
    "\n",
    "# Create a visited array\n",
    "visited = [[False for _ in range(len(graph[0]))] for _ in range(len(graph))]\n",
    "\n",
    "# Start DFS from the center\n",
    "dfs(graph, center_x, center_y, visited)\n",
    "\n",
    "# Print the modified graph\n",
    "for row in graph:\n",
    "    print(row)"
   ]
  },
  {
   "cell_type": "code",
   "execution_count": 12,
   "id": "37d715eb",
   "metadata": {},
   "outputs": [],
   "source": [
    "alpha = [\n",
    "    ['A','B', 'C'],\n",
    "    ['D','E','F'],\n",
    "    ['Q','Z','W']\n",
    "]\n",
    "\n",
    "word = 'ABEZW'"
   ]
  },
  {
   "cell_type": "code",
   "execution_count": 19,
   "id": "aa2125a0",
   "metadata": {},
   "outputs": [],
   "source": [
    "arr  = [1,2,5,-1,7]\n",
    "\n",
    "def findClosestToZero(arr):\n",
    "    closest = arr[2]\n",
    "    for n in arr:\n",
    "        if abs(n) < abs(closest):\n",
    "            closest = n\n",
    "            \n",
    "    if abs(closest) in arr and closest in arr:\n",
    "        closest = abs(closest)\n",
    "        \n",
    "    return closest"
   ]
  },
  {
   "cell_type": "code",
   "execution_count": 20,
   "id": "0793aca8",
   "metadata": {},
   "outputs": [
    {
     "data": {
      "text/plain": [
       "1"
      ]
     },
     "execution_count": 20,
     "metadata": {},
     "output_type": "execute_result"
    }
   ],
   "source": [
    "findClosestToZero(arr)"
   ]
  },
  {
   "cell_type": "code",
   "execution_count": 30,
   "id": "fac31543",
   "metadata": {},
   "outputs": [],
   "source": [
    "word1 = 'abc'\n",
    "word2 = 'defgh'\n",
    "\n",
    "def merge_words(word1, word2):\n",
    "    l1 = 0\n",
    "    l2 = 0\n",
    "    new_word = ''\n",
    "    while l1 < len(word1) and l2 < len(word2):\n",
    "        new_word += word1[l1]\n",
    "        new_word += word2[l2]\n",
    "        l1 += 1\n",
    "        l2 += 1\n",
    "    \n",
    "    if len(word1) != l1:\n",
    "        print('not done from first word')\n",
    "        \n",
    "    if len(word2) != l2:\n",
    "        new_word += word2[l2:]\n",
    "        print('not done from second word')\n",
    "    return new_word"
   ]
  },
  {
   "cell_type": "code",
   "execution_count": 31,
   "id": "e05b4c59",
   "metadata": {},
   "outputs": [
    {
     "name": "stdout",
     "output_type": "stream",
     "text": [
      "not done from second word\n"
     ]
    },
    {
     "data": {
      "text/plain": [
       "'adbecfgh'"
      ]
     },
     "execution_count": 31,
     "metadata": {},
     "output_type": "execute_result"
    }
   ],
   "source": [
    "merge_words(word1, word2)"
   ]
  },
  {
   "cell_type": "code",
   "execution_count": 35,
   "id": "da793c5f",
   "metadata": {},
   "outputs": [],
   "source": [
    "s = 'abc'\n",
    "t = 'avbdec'\n",
    "\n",
    "def isSubsequence(s, t):\n",
    "    i = 0\n",
    "    l = \"\"\n",
    "\n",
    "    for letter in t:\n",
    "        if i < len(s) and letter == s[i]:\n",
    "            l+=letter\n",
    "            i+=1\n",
    "    return l == s"
   ]
  },
  {
   "cell_type": "code",
   "execution_count": 36,
   "id": "c0da8751",
   "metadata": {},
   "outputs": [
    {
     "data": {
      "text/plain": [
       "True"
      ]
     },
     "execution_count": 36,
     "metadata": {},
     "output_type": "execute_result"
    }
   ],
   "source": [
    "isSubsequence(s,t)"
   ]
  },
  {
   "cell_type": "code",
   "execution_count": 58,
   "id": "525554ec",
   "metadata": {},
   "outputs": [
    {
     "name": "stdout",
     "output_type": "stream",
     "text": [
      "fade\n"
     ]
    }
   ],
   "source": [
    "\n",
    "class Solution:\n",
    "    def longestcommonprefix(self,strs):    \n",
    " \n",
    "        min_length= float('inf')\n",
    "        for s in strs:\n",
    "            if len(s)<min_length:\n",
    "                min_length=len(s)\n",
    "\n",
    "        i=0\n",
    "        while i<min_length:\n",
    "            char = strs[0][i]\n",
    "            for s in strs:\n",
    "                if s[i]!=char:\n",
    "                    return strs[0][:i]\n",
    "            return strs[0][:min_length]\n",
    "\n",
    "s1 = Solution()\n",
    "# print(s1.longestcommonprefix([\"flower\", \"flow\", \"flows\"]))\n",
    "print(s1.longestcommonprefix(['fadel', 'fada', 'fafa']))\n"
   ]
  },
  {
   "cell_type": "code",
   "execution_count": null,
   "id": "fffdf001",
   "metadata": {},
   "outputs": [],
   "source": []
  },
  {
   "cell_type": "code",
   "execution_count": null,
   "id": "1a1db166",
   "metadata": {},
   "outputs": [],
   "source": []
  }
 ],
 "metadata": {
  "kernelspec": {
   "display_name": "Python 3",
   "language": "python",
   "name": "python3"
  },
  "language_info": {
   "codemirror_mode": {
    "name": "ipython",
    "version": 3
   },
   "file_extension": ".py",
   "mimetype": "text/x-python",
   "name": "python",
   "nbconvert_exporter": "python",
   "pygments_lexer": "ipython3",
   "version": "3.8.8"
  }
 },
 "nbformat": 4,
 "nbformat_minor": 5
}
