{
 "cells": [
  {
   "cell_type": "code",
   "execution_count": 2,
   "metadata": {},
   "outputs": [],
   "source": [
    "# Linked List"
   ]
  },
  {
   "cell_type": "code",
   "execution_count": 125,
   "metadata": {},
   "outputs": [],
   "source": [
    "class Node:\n",
    "    def __init__(self, val):\n",
    "        self.val = val\n",
    "        self.next = None\n",
    "        \n",
    "class LinkedList:\n",
    "    def __init__(self):\n",
    "        self.head = None\n",
    "        self.tail = None\n",
    "        self.length = 1\n",
    "        \n",
    "    def addAtBegin(self, val):\n",
    "        pass\n",
    "    \n",
    "    def prepend(self, val):\n",
    "        new_node = Node(val)\n",
    "        if self.head is None:\n",
    "            self.head = new_node\n",
    "            self.tail = new_node\n",
    "        else: \n",
    "            new_node.next = self.head\n",
    "            self.head = new_node\n",
    "            \n",
    "        self.length += 1\n",
    "        \n",
    "        return True\n",
    "            \n",
    "        \n",
    "    def addAtEnd(self, val):\n",
    "        if self.head is None:\n",
    "            self.head = Node(val=val)\n",
    "            self.tail = self.head\n",
    "            return self.head\n",
    "        \n",
    "        temp = self.head\n",
    "        while temp:\n",
    "            if temp.next == None:\n",
    "                temp.next = Node(val)\n",
    "                self.tail = temp.next\n",
    "                self.length += 1\n",
    "                return temp.next\n",
    "                \n",
    "            temp = temp.next\n",
    "            \n",
    "        return True\n",
    "    \n",
    "    \n",
    "    def append(self, val):\n",
    "        new_node = Node(val)\n",
    "        if self.head is None:\n",
    "            self.head = new_node\n",
    "            self.tail = new_node\n",
    "            return self.head\n",
    "        else:\n",
    "            self.tail.next = new_node\n",
    "            self.tail = new_node\n",
    "        \n",
    "        self.length += 1\n",
    "        \n",
    "    \n",
    "    def display(self, node):\n",
    "        curr = node\n",
    "        while curr:\n",
    "            print(curr.val)\n",
    "            curr = curr.next\n",
    "            \n",
    "    def printList(self):\n",
    "        curr = self.head\n",
    "        while curr:\n",
    "            print(curr.val)\n",
    "            curr = curr.next\n",
    "            \n",
    "    def removeAtEnd(self, head, val):\n",
    "        curr = head\n",
    "        while curr:\n",
    "            if curr.val == val and curr.next is None:\n",
    "                curr = None\n",
    "                return curr\n",
    "            elif curr.val == val and curr.next is not None:\n",
    "                curr = curr.next\n",
    "                return curr\n",
    "            else:\n",
    "                return f'val is not in any node : {val}'   \n",
    "            \n",
    "    def removeAtEndUsingTail(self, head, val):\n",
    "        curr = head\n",
    "        while curr:\n",
    "            if curr.next.val == val:\n",
    "                self.tail = curr\n",
    "                return True\n",
    "            \n",
    "            curr = curr.next\n",
    "            \n",
    "    def pop(self):\n",
    "        if self.length == 0:\n",
    "            return None\n",
    "        \n",
    "        temp = self.head\n",
    "        pre = self.head\n",
    "        \n",
    "        while temp.next:            \n",
    "            pre = temp\n",
    "            temp = temp.next\n",
    "            \n",
    "        self.tail = pre\n",
    "        self.tail.next = None\n",
    "        self.length -= 1\n",
    "        \n",
    "        if self.length == 0:\n",
    "            self.head = None\n",
    "            self.tail = None\n",
    "            \n",
    "        return temp.val\n",
    "    \n",
    "    def popFirst(self):\n",
    "        if self.head is None:\n",
    "            return False\n",
    "        \n",
    "        if self.head.next is not None:        \n",
    "            self.head = self.head.next\n",
    "            self.length -= 1\n",
    "        else:\n",
    "            self.head = None\n",
    "            self.tail = None\n",
    "        \n",
    "    def popFirstV1(self):\n",
    "        if self.length == 0:\n",
    "            return None\n",
    "        \n",
    "        temp = self.head\n",
    "        self.head = self.head.next\n",
    "        temp.next = None\n",
    "        self.length -= 1\n",
    "        \n",
    "        if self.length == 0:\n",
    "            self.tail = None\n",
    "        \n",
    "        return temp\n",
    "    \n",
    "    def get(self, index):\n",
    "        if index < 0 or index >= self.length:\n",
    "            return None\n",
    "        \n",
    "        temp = self.head\n",
    "        for _ in range(index):\n",
    "            temp = temp.next\n",
    "            \n",
    "        return temp\n",
    "    \n",
    "    def set_value(self, index, val):\n",
    "        temp = self.head\n",
    "        for _ in range(index):\n",
    "            temp = temp.next\n",
    "            \n",
    "        temp.val = val\n",
    "        return temp.val\n",
    "    \n",
    "    def set_value_1(self, index, val):\n",
    "        temp = self.get(index)\n",
    "        if temp:\n",
    "            temp.val = val\n",
    "            return True            \n",
    "        return False\n",
    "            \n",
    "    \n",
    "    def insert_using_index(self, index, value):\n",
    "        if index < 0 and index > self.length:\n",
    "            return False\n",
    "        if index == 0:\n",
    "            return self.prepend(value)\n",
    "        if index == self.length:\n",
    "            return self.append(value)\n",
    "        \n",
    "        new_node = Node(value)\n",
    "        temp = self.get(index - 1)\n",
    "        \n",
    "        new_node.next = temp.next\n",
    "        temp.next = new_node\n",
    "        \n",
    "        self.length += 1\n",
    "        return True\n",
    "        \n",
    "    def remove_by_index(self, index):\n",
    "        if index < 0 or index > self.length:\n",
    "            return None\n",
    "        \n",
    "        if index == 0:\n",
    "            return self.popFirst()\n",
    "        \n",
    "        \n",
    "        temp = self.get(index - 1)\n",
    "        if temp.next.next is not None:\n",
    "            temp.next = temp.next.next\n",
    "        else:\n",
    "            temp.next = None\n",
    "            \n",
    "        return temp\n",
    "    \n",
    "    \n",
    "    def reverse(self):\n",
    "        temp = self.head\n",
    "        self.head = self.tail\n",
    "        self.tail = temp\n",
    "        after = temp.next\n",
    "        before = None\n",
    "        \n",
    "        for _ in range(self.length):\n",
    "            after = temp.next\n",
    "            temp.next = before\n",
    "            before = temp\n",
    "            temp = after\n",
    "            \n",
    "    def find_middle_node(self):\n",
    "        \"\"\"Finds and returns the middle node of the linked list\"\"\"\n",
    "        slow = fast = self.head\n",
    "        while fast and fast.next:\n",
    "            slow = slow.next  # Move slow by 1 step\n",
    "            fast = fast.next.next  # Move fast by 2 steps\n",
    "        return slow  # This will be the middle node\n",
    "    \n",
    "    \n",
    "    def find_middle_node_v1(self):\n",
    "        if self.length > 1:\n",
    "            middle = self.length // 2\n",
    "            if '.5' in str(middle):\n",
    "                middle += .5\n",
    "                \n",
    "            temp = self.head\n",
    "            for _ in range(int(middle)):\n",
    "                temp = temp.next\n",
    "            return temp\n",
    "        else:\n",
    "            return self.head\n",
    "        \n",
    "    def has_loop_or_cycle(self):\n",
    "        slow = self.head\n",
    "        fast = self.head\n",
    "        \n",
    "        while fast and fast.next:\n",
    "            slow = slow.next\n",
    "            fast = fast.next.next\n",
    "            \n",
    "            if slow == fast:\n",
    "                return True\n",
    "        return False\n",
    "    \n",
    "    # Function to find the Nth node from the last of a linked list\n",
    "    def findNthFromLast(self, k):\n",
    "        length = 0\n",
    "        temp = self.head\n",
    "\n",
    "        # Count the number of nodes in Linked List\n",
    "        while temp is not None:\n",
    "            temp = temp.next\n",
    "            length += 1\n",
    "\n",
    "        # Check if value of N is not more than length of the linked list\n",
    "        if length < k:\n",
    "            return -1\n",
    "\n",
    "        temp = self.head\n",
    "        # 11, 8, 6, 1 \n",
    "        #  4 - 2 +1 \n",
    "        # Get the (length - N + 1)th node from the beginning\n",
    "        for _ in range(1, length - k + 1):\n",
    "            temp = temp.next\n",
    "\n",
    "        return temp\n",
    "    \n",
    "    def partitions(self, x):\n",
    "        if self.head is None:\n",
    "            return False\n",
    "            \n",
    "        dummy1 = self.head\n",
    "        dummy2 = self.head\n",
    "#         nlist = []\n",
    "        stext = ''\n",
    "        while dummy1:\n",
    "            if dummy1.val < x:\n",
    "#                 nlist.append(dummy1.val)\n",
    "                stext += str(dummy1.val)\n",
    "            dummy1 = dummy1.next\n",
    "                \n",
    "        while dummy2:\n",
    "            if dummy2.val >= x:\n",
    "#                 nlist.append(dummy2.val)\n",
    "                stext += str(dummy2.val)\n",
    "            dummy2 = dummy2.next\n",
    "                \n",
    "        \n",
    "                \n",
    "        return '-> '.join(stext)"
   ]
  },
  {
   "cell_type": "code",
   "execution_count": 126,
   "metadata": {},
   "outputs": [],
   "source": [
    "ll = LinkedList()"
   ]
  },
  {
   "cell_type": "code",
   "execution_count": 127,
   "metadata": {},
   "outputs": [],
   "source": [
    "# head = ll.addAtEnd(11)\n",
    "# a = ll.addAtEnd(8)\n",
    "# b = ll.addAtEnd(6)\n",
    "\n",
    "head = ll.append(1)\n",
    "a = ll.append(2)\n",
    "b = ll.append(3)\n",
    "b = ll.append(4)"
   ]
  },
  {
   "cell_type": "code",
   "execution_count": 128,
   "metadata": {},
   "outputs": [
    {
     "name": "stdout",
     "output_type": "stream",
     "text": [
      "1\n",
      "2\n",
      "3\n",
      "4\n"
     ]
    }
   ],
   "source": [
    "ll.display(head)"
   ]
  },
  {
   "cell_type": "code",
   "execution_count": 129,
   "metadata": {},
   "outputs": [
    {
     "data": {
      "text/plain": [
       "<__main__.Node at 0x1a0196fe640>"
      ]
     },
     "execution_count": 129,
     "metadata": {},
     "output_type": "execute_result"
    }
   ],
   "source": [
    "ll.get(0)\n",
    "# ll.getV1(1)"
   ]
  },
  {
   "cell_type": "code",
   "execution_count": 130,
   "metadata": {},
   "outputs": [
    {
     "data": {
      "text/plain": [
       "True"
      ]
     },
     "execution_count": 130,
     "metadata": {},
     "output_type": "execute_result"
    }
   ],
   "source": [
    "ll.set_value_1(0, 11)"
   ]
  },
  {
   "cell_type": "code",
   "execution_count": 131,
   "metadata": {},
   "outputs": [
    {
     "name": "stdout",
     "output_type": "stream",
     "text": [
      "11\n",
      "2\n",
      "3\n",
      "4\n"
     ]
    }
   ],
   "source": [
    "ll.display(head)"
   ]
  },
  {
   "cell_type": "code",
   "execution_count": 132,
   "metadata": {},
   "outputs": [
    {
     "data": {
      "text/plain": [
       "True"
      ]
     },
     "execution_count": 132,
     "metadata": {},
     "output_type": "execute_result"
    }
   ],
   "source": [
    "ll.insert_using_index(1, 8)"
   ]
  },
  {
   "cell_type": "code",
   "execution_count": 133,
   "metadata": {},
   "outputs": [
    {
     "name": "stdout",
     "output_type": "stream",
     "text": [
      "11\n",
      "8\n",
      "2\n",
      "3\n",
      "4\n"
     ]
    }
   ],
   "source": [
    "ll.display(head)"
   ]
  },
  {
   "cell_type": "code",
   "execution_count": 134,
   "metadata": {},
   "outputs": [
    {
     "data": {
      "text/plain": [
       "'2-> 3-> 4-> 1-> 1-> 8'"
      ]
     },
     "execution_count": 134,
     "metadata": {},
     "output_type": "execute_result"
    }
   ],
   "source": [
    "ll.partitions(5)"
   ]
  },
  {
   "cell_type": "code",
   "execution_count": 65,
   "metadata": {},
   "outputs": [
    {
     "data": {
      "text/plain": [
       "<__main__.Node at 0x1a019c42d00>"
      ]
     },
     "execution_count": 65,
     "metadata": {},
     "output_type": "execute_result"
    }
   ],
   "source": [
    "ll.remove_by_index(2)"
   ]
  },
  {
   "cell_type": "code",
   "execution_count": 66,
   "metadata": {},
   "outputs": [
    {
     "name": "stdout",
     "output_type": "stream",
     "text": [
      "11\n",
      "8\n",
      "3\n",
      "4\n"
     ]
    }
   ],
   "source": [
    "ll.display(head)"
   ]
  },
  {
   "cell_type": "code",
   "execution_count": 67,
   "metadata": {},
   "outputs": [
    {
     "data": {
      "text/plain": [
       "True"
      ]
     },
     "execution_count": 67,
     "metadata": {},
     "output_type": "execute_result"
    }
   ],
   "source": [
    "ll.prepend(11)"
   ]
  },
  {
   "cell_type": "code",
   "execution_count": 68,
   "metadata": {},
   "outputs": [
    {
     "name": "stdout",
     "output_type": "stream",
     "text": [
      "11\n",
      "11\n",
      "8\n",
      "3\n",
      "4\n"
     ]
    }
   ],
   "source": [
    "ll.printList()"
   ]
  },
  {
   "cell_type": "code",
   "execution_count": 69,
   "metadata": {},
   "outputs": [],
   "source": [
    "ll.popFirst()"
   ]
  },
  {
   "cell_type": "code",
   "execution_count": 70,
   "metadata": {},
   "outputs": [
    {
     "name": "stdout",
     "output_type": "stream",
     "text": [
      "11\n",
      "8\n",
      "3\n",
      "4\n"
     ]
    }
   ],
   "source": [
    "ll.printList()"
   ]
  },
  {
   "cell_type": "code",
   "execution_count": 73,
   "metadata": {},
   "outputs": [
    {
     "data": {
      "text/plain": [
       "8"
      ]
     },
     "execution_count": 73,
     "metadata": {},
     "output_type": "execute_result"
    }
   ],
   "source": [
    "ll.findNthFromLast(k=3).val"
   ]
  },
  {
   "cell_type": "code",
   "execution_count": 19,
   "metadata": {},
   "outputs": [],
   "source": [
    "# a.val"
   ]
  },
  {
   "cell_type": "code",
   "execution_count": 162,
   "metadata": {},
   "outputs": [
    {
     "data": {
      "text/plain": [
       "2"
      ]
     },
     "execution_count": 162,
     "metadata": {},
     "output_type": "execute_result"
    }
   ],
   "source": [
    "ll.tail.val"
   ]
  },
  {
   "cell_type": "code",
   "execution_count": 163,
   "metadata": {},
   "outputs": [
    {
     "data": {
      "text/plain": [
       "2"
      ]
     },
     "execution_count": 163,
     "metadata": {},
     "output_type": "execute_result"
    }
   ],
   "source": [
    "ll.length"
   ]
  },
  {
   "cell_type": "code",
   "execution_count": 167,
   "metadata": {},
   "outputs": [],
   "source": [
    "# ll.removeAtEndUsingTail(head, 6)\n",
    "ll.pop()"
   ]
  },
  {
   "cell_type": "code",
   "execution_count": 168,
   "metadata": {},
   "outputs": [
    {
     "ename": "AttributeError",
     "evalue": "'NoneType' object has no attribute 'val'",
     "output_type": "error",
     "traceback": [
      "\u001b[1;31m---------------------------------------------------------------------------\u001b[0m",
      "\u001b[1;31mAttributeError\u001b[0m                            Traceback (most recent call last)",
      "\u001b[1;32m<ipython-input-168-31fe8102d500>\u001b[0m in \u001b[0;36m<module>\u001b[1;34m\u001b[0m\n\u001b[1;32m----> 1\u001b[1;33m \u001b[0mll\u001b[0m\u001b[1;33m.\u001b[0m\u001b[0mtail\u001b[0m\u001b[1;33m.\u001b[0m\u001b[0mval\u001b[0m\u001b[1;33m\u001b[0m\u001b[1;33m\u001b[0m\u001b[0m\n\u001b[0m",
      "\u001b[1;31mAttributeError\u001b[0m: 'NoneType' object has no attribute 'val'"
     ]
    }
   ],
   "source": [
    "ll.tail.val"
   ]
  },
  {
   "cell_type": "code",
   "execution_count": 154,
   "metadata": {},
   "outputs": [
    {
     "name": "stdout",
     "output_type": "stream",
     "text": [
      "1\n"
     ]
    }
   ],
   "source": [
    "ll.display(head)"
   ]
  },
  {
   "cell_type": "code",
   "execution_count": null,
   "metadata": {},
   "outputs": [],
   "source": []
  },
  {
   "cell_type": "code",
   "execution_count": null,
   "metadata": {},
   "outputs": [],
   "source": []
  },
  {
   "cell_type": "code",
   "execution_count": 76,
   "metadata": {},
   "outputs": [],
   "source": [
    "# problomes"
   ]
  },
  {
   "cell_type": "code",
   "execution_count": null,
   "metadata": {},
   "outputs": [],
   "source": []
  },
  {
   "cell_type": "code",
   "execution_count": null,
   "metadata": {},
   "outputs": [],
   "source": []
  },
  {
   "cell_type": "code",
   "execution_count": null,
   "metadata": {},
   "outputs": [],
   "source": []
  },
  {
   "cell_type": "code",
   "execution_count": 1,
   "metadata": {},
   "outputs": [],
   "source": [
    "## Question\n",
    "# https://www.geeksforgeeks.org/python-data-structures-and-algorithms/"
   ]
  },
  {
   "cell_type": "code",
   "execution_count": 2,
   "metadata": {},
   "outputs": [],
   "source": [
    "#Linked list class\n",
    "\"\"\"\n",
    "class LinkedList:\n",
    "    def __init__(self):\n",
    "        self.head=None\n",
    "        self.tail=None\n",
    "\"\"\"\n",
    "class Solution:\n",
    "    # Function to count nodes of a linked list.\n",
    "    def getCount(self, head):\n",
    "        # code here\n",
    "        length = 0\n",
    "        temp = head\n",
    "        while temp:\n",
    "            temp = temp.next\n",
    "            length += 1\n",
    "            \n",
    "        return length\n",
    "    \n",
    "    def searchKey(self, n, head, key):\n",
    "        #Code here\n",
    "        temp = head\n",
    "        while temp:\n",
    "            if temp.data == key:\n",
    "                return True\n",
    "            \n",
    "            temp = temp.next\n",
    "            \n",
    "        return False\n",
    "    \n",
    "#Function to find the data of kth node from the end of a linked list\n",
    "# Nth Node from End\n",
    "class Solution:\n",
    "    def getKthFromLast(self, head, k=2):\n",
    "        #code here\n",
    "        pass\n",
    "            "
   ]
  },
  {
   "cell_type": "code",
   "execution_count": null,
   "metadata": {},
   "outputs": [],
   "source": []
  }
 ],
 "metadata": {
  "kernelspec": {
   "display_name": "Python 3",
   "language": "python",
   "name": "python3"
  },
  "language_info": {
   "codemirror_mode": {
    "name": "ipython",
    "version": 3
   },
   "file_extension": ".py",
   "mimetype": "text/x-python",
   "name": "python",
   "nbconvert_exporter": "python",
   "pygments_lexer": "ipython3",
   "version": "3.8.5"
  }
 },
 "nbformat": 4,
 "nbformat_minor": 4
}
