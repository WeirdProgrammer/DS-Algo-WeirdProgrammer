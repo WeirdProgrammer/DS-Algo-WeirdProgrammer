{
 "cells": [
  {
   "cell_type": "code",
   "execution_count": 1,
   "metadata": {},
   "outputs": [],
   "source": [
    "# tree traversal"
   ]
  },
  {
   "cell_type": "code",
   "execution_count": 3,
   "metadata": {},
   "outputs": [],
   "source": [
    "class Node:\n",
    "    def __init__(self, val):\n",
    "        self.val = val\n",
    "        self.right = None\n",
    "        self.left = None"
   ]
  },
  {
   "cell_type": "code",
   "execution_count": 70,
   "metadata": {},
   "outputs": [],
   "source": [
    "class Tree:\n",
    "    def __init__(self):\n",
    "        self.root = None\n",
    "        \n",
    "    def insert(self, val):\n",
    "        if self.root == None:\n",
    "            self.root = Node(val)\n",
    "            return True\n",
    "\n",
    "        dummy_tree = self.root\n",
    "        while True:\n",
    "            if val == dummy_tree.val:\n",
    "                return False\n",
    "            \n",
    "            if val < dummy_tree.val:\n",
    "                if dummy_tree.left is None:\n",
    "                    dummy_tree.left = Node(val)\n",
    "                    return True\n",
    "                dummy_tree = dummy_tree.left\n",
    "            else:\n",
    "                if dummy_tree.right is None:\n",
    "                    dummy_tree.right = Node(val)\n",
    "                    return True\n",
    "                dummy_tree = dummy_tree.right\n",
    "            \n",
    "                    \n",
    "    def print_tree(self):\n",
    "        dummy_tree = self.root\n",
    "        while dummy_tree is not None:\n",
    "            print(f'val : {dummy_tree.val}')\n",
    "            if dummy_tree.left is not None:\n",
    "                dummy_tree = dummy_tree.left\n",
    "            elif dummy_tree.right is not None:\n",
    "                dummy_tree = dummy_tree.right                \n",
    "        return True\n",
    "    \n",
    "    def rec(self, node):\n",
    "        if node is None:\n",
    "            return False\n",
    "        print(node.val)\n",
    "        self.rec(node.left) , self.rec(node.right)\n",
    "                \n",
    "    \n",
    "    def BFS(self):\n",
    "        current_node = self.root\n",
    "        queue = []\n",
    "        results = []\n",
    "        queue.append(current_node)\n",
    "        \n",
    "        while len(queue) > 0:\n",
    "            curr = queue.pop()\n",
    "            results.append(curr.val)\n",
    "            \n",
    "            if curr.left is not None:\n",
    "                queue.append(curr.left)\n",
    "                \n",
    "            if curr.right is not None:\n",
    "                queue.append(curr.right)\n",
    "                \n",
    "        return results\n",
    "    \n",
    "    \n",
    "    def DFS_PreOrder(self):\n",
    "        results = []\n",
    "        # after each visit the result gets appended\n",
    "        def traverse(current_node):\n",
    "            results.append(current_node.val)\n",
    "            if current_node.left is not None:\n",
    "                traverse(current_node.left)\n",
    "            if current_node.right is not None:\n",
    "                traverse(current_node.right)\n",
    "        traverse(self.root)\n",
    "        \n",
    "        return results\n",
    "    \n",
    "    \n",
    "    def DFS_PostOrder(self):\n",
    "        results = []\n",
    "        # after visiting last leaf the result start to get append\n",
    "        def traverse(current_node):\n",
    "            if current_node.left is not None:\n",
    "                traverse(current_node.left)\n",
    "            if current_node.right is not None:\n",
    "                traverse(current_node.right)\n",
    "            # adding from the bottom when no left and right\n",
    "            results.append(current_node.val)\n",
    "            \n",
    "        traverse(self.root)\n",
    "        \n",
    "        return results\n",
    "    \n",
    "    \n",
    "    def DFS_InOrder(self):\n",
    "        results = []\n",
    "        # start form the left or lowest value\n",
    "        def traverse(current_node):\n",
    "            if current_node.left is not None:\n",
    "                traverse(current_node.left)\n",
    "            results.append(current_node.val)\n",
    "            if current_node.right is not None:\n",
    "                traverse(current_node.right)\n",
    "        traverse(self.root)\n",
    "        \n",
    "        return results"
   ]
  },
  {
   "cell_type": "code",
   "execution_count": 71,
   "metadata": {},
   "outputs": [
    {
     "data": {
      "text/plain": [
       "True"
      ]
     },
     "execution_count": 71,
     "metadata": {},
     "output_type": "execute_result"
    }
   ],
   "source": [
    "tree = Tree()\n",
    "tree.insert(47)\n",
    "tree.insert(21)\n",
    "tree.insert(76)\n",
    "tree.insert(18)\n",
    "tree.insert(27)\n",
    "tree.insert(52)\n",
    "tree.insert(82)"
   ]
  },
  {
   "cell_type": "code",
   "execution_count": 72,
   "metadata": {},
   "outputs": [],
   "source": [
    "# print(tree.root.val)\n",
    "# print(tree.root.right.val)\n",
    "# print(tree.root.left.val)"
   ]
  },
  {
   "cell_type": "code",
   "execution_count": 73,
   "metadata": {},
   "outputs": [
    {
     "name": "stdout",
     "output_type": "stream",
     "text": [
      "47\n",
      "21\n",
      "18\n",
      "27\n",
      "76\n",
      "52\n",
      "82\n"
     ]
    }
   ],
   "source": [
    "# tree.print_tree()\n",
    "tree.rec(tree.root)"
   ]
  },
  {
   "cell_type": "code",
   "execution_count": 74,
   "metadata": {},
   "outputs": [
    {
     "data": {
      "text/plain": [
       "[47, 76, 82, 52, 21, 27, 18]"
      ]
     },
     "execution_count": 74,
     "metadata": {},
     "output_type": "execute_result"
    }
   ],
   "source": [
    "tree.BFS()"
   ]
  },
  {
   "cell_type": "code",
   "execution_count": 75,
   "metadata": {},
   "outputs": [
    {
     "data": {
      "text/plain": [
       "[47, 21, 18, 27, 76, 52, 82]"
      ]
     },
     "execution_count": 75,
     "metadata": {},
     "output_type": "execute_result"
    }
   ],
   "source": [
    "tree.DFS_PreOrder()"
   ]
  },
  {
   "cell_type": "code",
   "execution_count": 76,
   "metadata": {},
   "outputs": [
    {
     "data": {
      "text/plain": [
       "[18, 27, 21, 52, 82, 76, 47]"
      ]
     },
     "execution_count": 76,
     "metadata": {},
     "output_type": "execute_result"
    }
   ],
   "source": [
    "tree.DFS_PostOrder()"
   ]
  },
  {
   "cell_type": "code",
   "execution_count": 81,
   "metadata": {},
   "outputs": [],
   "source": [
    "# https://github.com/Hunterdii/GeeksforGeeks-POTD/blob/main/November%202024%20GFG%20SOLUTION/15(Nov)%20Second%20Largest.md\n",
    "\n",
    "# https://github.com/Hunterdii/GeeksforGeeks-POTD"
   ]
  },
  {
   "cell_type": "code",
   "execution_count": 114,
   "metadata": {},
   "outputs": [
    {
     "data": {
      "text/plain": [
       "34"
      ]
     },
     "execution_count": 114,
     "metadata": {},
     "output_type": "execute_result"
    }
   ],
   "source": [
    "# get Second Largest number index\n",
    "class Solution:\n",
    "    def getSecondLargest(self, arr):\n",
    "        # Code Here\n",
    "        first = float('-inf')\n",
    "        second = float('-inf')\n",
    "        \n",
    "        for num in arr:\n",
    "            if num > first:\n",
    "                second = first\n",
    "                first = num\n",
    "            elif num > second and num < first:\n",
    "                second = num\n",
    "        return -1 if second == float('-inf') else second\n",
    "    \n",
    "    \n",
    "\n",
    "arr = [12, 35, 1, 10, 34, 1]\n",
    "sol = Solution()\n",
    "sol.getSecondLargest(arr)"
   ]
  },
  {
   "cell_type": "code",
   "execution_count": null,
   "metadata": {},
   "outputs": [],
   "source": []
  },
  {
   "cell_type": "code",
   "execution_count": 89,
   "metadata": {},
   "outputs": [
    {
     "data": {
      "text/plain": [
       "1"
      ]
     },
     "execution_count": 89,
     "metadata": {},
     "output_type": "execute_result"
    }
   ],
   "source": [
    "class Solution:\n",
    "    #Function to return the position of the first repeating element.\n",
    "    def firstRepeated(self,arr):\n",
    "        \n",
    "        #arr : given array\n",
    "        #n : size of the array\n",
    "        indexs = []\n",
    "        for i in range(len(arr)):\n",
    "            if arr.count(arr[i]) > 1:\n",
    "                indexs.append(i)\n",
    "                break\n",
    "        return -1 if indexs == [] or indexs[0] < 0 else indexs[0]\n",
    "    \n",
    "    def another(self , arr):\n",
    "        # Nested loop to check for repeating elements\n",
    "        for i in range(n):\n",
    "            for j in range(i+1, n):\n",
    "                # If a repeating element is found, return its index\n",
    "                if arr[i] == arr[j]:\n",
    "                    return i\n",
    "        # If no repeating element is found, return -1\n",
    "        return -1\n",
    "    \n",
    "    def firstRepeatedBest(self, arr):\n",
    "        seen = set()\n",
    "        first_repeated_index = -1  # Default to -1 if no repetition is found\n",
    "\n",
    "        # Traverse from right to left to get the first repeating element's earliest position\n",
    "        for i in range(len(arr) - 1, -1, -1):\n",
    "            if arr[i] in seen:\n",
    "                first_repeated_index = i + 1  # Store 1-based index\n",
    "            seen.add(arr[i])  # Add element to set\n",
    "\n",
    "        return first_repeated_index\n",
    "    \n",
    "arr = [1, 5, 3, 4, 3, 5, 6]\n",
    "sol = Solution()\n",
    "sol.firstRepeated(arr)"
   ]
  },
  {
   "cell_type": "code",
   "execution_count": 107,
   "metadata": {},
   "outputs": [],
   "source": [
    "arr = []"
   ]
  },
  {
   "cell_type": "code",
   "execution_count": 108,
   "metadata": {},
   "outputs": [
    {
     "name": "stdout",
     "output_type": "stream",
     "text": [
      "true\n"
     ]
    }
   ],
   "source": [
    "if arr == [] or arr[0] < 0:\n",
    "    print('true')\n",
    "else:\n",
    "    print('false')"
   ]
  },
  {
   "cell_type": "code",
   "execution_count": 115,
   "metadata": {},
   "outputs": [],
   "source": [
    "class Solution:\n",
    "    def countZeroes(self, arr):\n",
    "        # code here\n",
    "        return arr.count(0)"
   ]
  },
  {
   "cell_type": "code",
   "execution_count": null,
   "metadata": {},
   "outputs": [],
   "source": []
  }
 ],
 "metadata": {
  "kernelspec": {
   "display_name": "Python 3",
   "language": "python",
   "name": "python3"
  },
  "language_info": {
   "codemirror_mode": {
    "name": "ipython",
    "version": 3
   },
   "file_extension": ".py",
   "mimetype": "text/x-python",
   "name": "python",
   "nbconvert_exporter": "python",
   "pygments_lexer": "ipython3",
   "version": "3.8.5"
  }
 },
 "nbformat": 4,
 "nbformat_minor": 4
}
