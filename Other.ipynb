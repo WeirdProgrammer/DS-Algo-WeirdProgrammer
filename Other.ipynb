{
 "cells": [
  {
   "cell_type": "code",
   "execution_count": 9,
   "metadata": {},
   "outputs": [],
   "source": [
    "# algo\n",
    "from math import ceil , floor"
   ]
  },
  {
   "cell_type": "code",
   "execution_count": 5,
   "metadata": {},
   "outputs": [
    {
     "data": {
      "text/plain": [
       "{'B': 3, '1': 4, 'C': 2, 'D': 3}"
      ]
     },
     "execution_count": 5,
     "metadata": {},
     "output_type": "execute_result"
    }
   ],
   "source": [
    "def getRepCount(s):\n",
    "    mydict = {}\n",
    "    for i in range(len(s)):\n",
    "        if s[i] not in mydict.keys():\n",
    "            mydict[s[i]] = 1\n",
    "        else:\n",
    "            mydict[s[i]] += 1\n",
    "            \n",
    "    return mydict\n",
    "\n",
    "s = 'BBB1111CCDDD'\n",
    "getRepCount(s)\n",
    "# Time : O(n)\n",
    "# Space : ?"
   ]
  },
  {
   "cell_type": "code",
   "execution_count": 10,
   "metadata": {},
   "outputs": [],
   "source": [
    "a = 5 / 2"
   ]
  },
  {
   "cell_type": "code",
   "execution_count": 20,
   "metadata": {},
   "outputs": [
    {
     "data": {
      "text/plain": [
       "(3, 2, 2.5, 2)"
      ]
     },
     "execution_count": 20,
     "metadata": {},
     "output_type": "execute_result"
    }
   ],
   "source": [
    "ceil(a), floor(a), float(a), int(a)"
   ]
  },
  {
   "cell_type": "code",
   "execution_count": 31,
   "metadata": {},
   "outputs": [],
   "source": [
    "a = 123"
   ]
  },
  {
   "cell_type": "code",
   "execution_count": 34,
   "metadata": {},
   "outputs": [
    {
     "data": {
      "text/plain": [
       "'1-> 2-> 3'"
      ]
     },
     "execution_count": 34,
     "metadata": {},
     "output_type": "execute_result"
    }
   ],
   "source": [
    "'-> '.join(str(a))"
   ]
  },
  {
   "cell_type": "code",
   "execution_count": 4,
   "metadata": {},
   "outputs": [],
   "source": [
    "# 7 k"
   ]
  },
  {
   "cell_type": "code",
   "execution_count": 5,
   "metadata": {},
   "outputs": [],
   "source": [
    "def to_jaden_case(string):\n",
    "    return ' '.join(word.capitalize() for word in string.split())"
   ]
  },
  {
   "cell_type": "code",
   "execution_count": 6,
   "metadata": {},
   "outputs": [],
   "source": [
    "def openOrSenior(data):\n",
    "    return [\"Senior\" if age >= 55 and handicap >= 8 else \"Open\" for (age, handicap) in data]"
   ]
  },
  {
   "cell_type": "code",
   "execution_count": 7,
   "metadata": {},
   "outputs": [],
   "source": [
    "# k 6"
   ]
  },
  {
   "cell_type": "code",
   "execution_count": 8,
   "metadata": {},
   "outputs": [],
   "source": [
    "def find_outlier(int):\n",
    "    odds = [x for x in int if x%2!=0]\n",
    "    evens= [x for x in int if x%2==0]\n",
    "    return odds[0] if len(odds)<len(evens) else evens[0]"
   ]
  },
  {
   "cell_type": "code",
   "execution_count": 16,
   "metadata": {},
   "outputs": [],
   "source": [
    "data = [9]"
   ]
  },
  {
   "cell_type": "code",
   "execution_count": 12,
   "metadata": {},
   "outputs": [],
   "source": [
    "sen = 'is2 Thi1s T4est 3a'"
   ]
  },
  {
   "cell_type": "code",
   "execution_count": 19,
   "metadata": {},
   "outputs": [],
   "source": [
    "def order(sentence):\n",
    "    # code here\n",
    "    new = []\n",
    "    senlist = sentence.split()\n",
    "    \n",
    "    for i in range(1, len(senlist) + 1):\n",
    "        for j in senlist:\n",
    "            if str(i) in j:\n",
    "                new.append(j)\n",
    "                \n",
    "    return ' '.join(new)"
   ]
  },
  {
   "cell_type": "code",
   "execution_count": 21,
   "metadata": {},
   "outputs": [],
   "source": [
    "# def order(words):\n",
    "#     return ' '.join(sorted(words.split(), key=lambda w:sorted(w)))"
   ]
  },
  {
   "cell_type": "code",
   "execution_count": 20,
   "metadata": {},
   "outputs": [
    {
     "data": {
      "text/plain": [
       "'Thi1s is2 3a T4est'"
      ]
     },
     "execution_count": 20,
     "metadata": {},
     "output_type": "execute_result"
    }
   ],
   "source": [
    "order(sen)"
   ]
  },
  {
   "cell_type": "code",
   "execution_count": 42,
   "metadata": {},
   "outputs": [],
   "source": [
    "def find_short(s):\n",
    "    # your code here\n",
    "    s = s.split(' ')\n",
    "    mini = len(s[0])\n",
    "    the_word = s[0]\n",
    "    for word in s:\n",
    "        if len(word) < mini:\n",
    "            mini = min(mini, len(word))\n",
    "            the_word = word\n",
    "            \n",
    "    return len(the_word)"
   ]
  },
  {
   "cell_type": "code",
   "execution_count": 44,
   "metadata": {},
   "outputs": [],
   "source": [
    "def find_short(s):\n",
    "    return min(len(x) for x in s.split())"
   ]
  },
  {
   "cell_type": "code",
   "execution_count": 43,
   "metadata": {},
   "outputs": [
    {
     "data": {
      "text/plain": [
       "2"
      ]
     },
     "execution_count": 43,
     "metadata": {},
     "output_type": "execute_result"
    }
   ],
   "source": [
    "find_short(sen)"
   ]
  },
  {
   "cell_type": "code",
   "execution_count": 62,
   "metadata": {},
   "outputs": [],
   "source": [
    "def solution(s):\n",
    "    n = 2\n",
    "    letters = [s[i:i+n] if len(s[i:i+n]) % 2 == 0 else s[i:i+n] + '_' for i in range(0, len(s), n)]\n",
    "    print(letters)"
   ]
  },
  {
   "cell_type": "code",
   "execution_count": 64,
   "metadata": {},
   "outputs": [
    {
     "name": "stdout",
     "output_type": "stream",
     "text": [
      "['as', 'df', 'ad', 's_']\n"
     ]
    }
   ],
   "source": [
    "solution('asdfads')"
   ]
  },
  {
   "cell_type": "code",
   "execution_count": 66,
   "metadata": {},
   "outputs": [],
   "source": [
    "a = [11*11, 5*6]"
   ]
  },
  {
   "cell_type": "code",
   "execution_count": 67,
   "metadata": {},
   "outputs": [
    {
     "data": {
      "text/plain": [
       "121"
      ]
     },
     "execution_count": 67,
     "metadata": {},
     "output_type": "execute_result"
    }
   ],
   "source": [
    "a[0]"
   ]
  },
  {
   "cell_type": "code",
   "execution_count": 82,
   "metadata": {},
   "outputs": [],
   "source": [
    "a1 = [121, 144, 19, 161, 19, 144, 19, 11]\n",
    "a2 = [11*11, 121*121, 144*144, 19*19, 161*161, 19*19, 144*144, 19*19]"
   ]
  },
  {
   "cell_type": "code",
   "execution_count": 83,
   "metadata": {},
   "outputs": [
    {
     "data": {
      "text/plain": [
       "False"
      ]
     },
     "execution_count": 83,
     "metadata": {},
     "output_type": "execute_result"
    }
   ],
   "source": [
    "all([a1[i]==a2[i] for i in range(len(a1))])"
   ]
  },
  {
   "cell_type": "code",
   "execution_count": 85,
   "metadata": {},
   "outputs": [],
   "source": [
    "def comp(array1, array2):\n",
    "    if array1 == None or array2 == None or len(array1) != len(array2):\n",
    "        return False \n",
    "    array1.sort(key=abs)\n",
    "    array2.sort(key=abs)\n",
    "    return all(a**2 == b for a, b in zip(array1, array2))"
   ]
  },
  {
   "cell_type": "code",
   "execution_count": 86,
   "metadata": {},
   "outputs": [],
   "source": [
    "names = [\"Alice\", \"Bob\", \"Alice\", \"Eve\", \"Bob\", \"Charlie\"]\n",
    "unrepeated_names = [name for name in names if names.count(name) == 1]"
   ]
  },
  {
   "cell_type": "code",
   "execution_count": 87,
   "metadata": {},
   "outputs": [
    {
     "data": {
      "text/plain": [
       "['Eve', 'Charlie']"
      ]
     },
     "execution_count": 87,
     "metadata": {},
     "output_type": "execute_result"
    }
   ],
   "source": [
    "unrepeated_names"
   ]
  },
  {
   "cell_type": "code",
   "execution_count": null,
   "metadata": {},
   "outputs": [],
   "source": []
  },
  {
   "cell_type": "code",
   "execution_count": 92,
   "metadata": {},
   "outputs": [
    {
     "name": "stdout",
     "output_type": "stream",
     "text": [
      "['0->2', '4->5', '7']\n"
     ]
    }
   ],
   "source": [
    "arr = [0,1,2,4,5,7]\n",
    "\n",
    "class Sol:\n",
    "    def summaryRanges(nums):\n",
    "        ans = []\n",
    "        i = 0\n",
    "\n",
    "        while i < len(nums):\n",
    "            start = nums[i]\n",
    "\n",
    "            while i < len(nums) - 1 and nums[i] + 1 == nums[i+1]:\n",
    "                i += 1\n",
    "\n",
    "            if start != nums[i]:\n",
    "                ans.append(str(start) + '->' + str(nums[i]))\n",
    "            else:\n",
    "                ans.append(str(nums[i]))\n",
    "\n",
    "            i += 1\n",
    "\n",
    "        return ans\n",
    "\n",
    "    def returnBool(val: bool) -> bool:\n",
    "        return val\n",
    "\n",
    "#print(Sol.returnBool(val=True))\n",
    "\n",
    "print(Sol.summaryRanges(arr))"
   ]
  },
  {
   "cell_type": "code",
   "execution_count": 94,
   "metadata": {},
   "outputs": [
    {
     "name": "stdout",
     "output_type": "stream",
     "text": [
      "bbb\n",
      "bbc\n",
      "bca\n",
      "False\n"
     ]
    }
   ],
   "source": [
    "# 567\n",
    "# s1 = \"adc\"\n",
    "# s2 = \"dcda\"\n",
    "s1 = \"abc\"\n",
    "s2 = \"bbbca\"\n",
    "\n",
    "def do(s1, s2):\n",
    "    # print(s1[::-1])\n",
    "    l = 0\n",
    "    r = len(s1)\n",
    "\n",
    "    while r < len(s2) + 1:\n",
    "        print(s2[l:r])\n",
    "        if s1[::-1] == s2[l:r] or s1 == s2[l:r]:\n",
    "            return True\n",
    "        else:\n",
    "            l += 1\n",
    "            r += 1\n",
    "\n",
    "    return False\n",
    "\n",
    "\n",
    "print(do(s1,s2))"
   ]
  },
  {
   "cell_type": "code",
   "execution_count": 95,
   "metadata": {},
   "outputs": [
    {
     "name": "stdout",
     "output_type": "stream",
     "text": [
      "12.75\n"
     ]
    }
   ],
   "source": [
    "# 643\n",
    "nums = [1,12,-5,-6,50,3]\n",
    "k = 4\n",
    "\n",
    "def do(nums, k):\n",
    "    l = 0\n",
    "    r = k\n",
    "    max_sub = 0\n",
    "\n",
    "    while r < len(nums):\n",
    "        max_sub = max(max_sub, sum(nums[l:r]) / k)\n",
    "        l += 1\n",
    "        r += 1\n",
    "\n",
    "\n",
    "    print(max_sub)\n",
    "\n",
    "do(nums , k)"
   ]
  },
  {
   "cell_type": "code",
   "execution_count": 98,
   "metadata": {},
   "outputs": [
    {
     "ename": "IndexError",
     "evalue": "list index out of range",
     "output_type": "error",
     "traceback": [
      "\u001b[1;31m---------------------------------------------------------------------------\u001b[0m",
      "\u001b[1;31mIndexError\u001b[0m                                Traceback (most recent call last)",
      "\u001b[1;32m<ipython-input-98-5feea905f058>\u001b[0m in \u001b[0;36m<module>\u001b[1;34m\u001b[0m\n\u001b[0;32m     15\u001b[0m \u001b[1;33m\u001b[0m\u001b[0m\n\u001b[0;32m     16\u001b[0m \u001b[1;33m\u001b[0m\u001b[0m\n\u001b[1;32m---> 17\u001b[1;33m \u001b[0mdo\u001b[0m\u001b[1;33m(\u001b[0m\u001b[0mdays\u001b[0m\u001b[1;33m)\u001b[0m\u001b[1;33m\u001b[0m\u001b[1;33m\u001b[0m\u001b[0m\n\u001b[0m",
      "\u001b[1;32m<ipython-input-98-5feea905f058>\u001b[0m in \u001b[0;36mdo\u001b[1;34m(days)\u001b[0m\n\u001b[0;32m     11\u001b[0m     \u001b[1;32mfor\u001b[0m \u001b[0mi\u001b[0m\u001b[1;33m,\u001b[0m \u001b[0mv\u001b[0m \u001b[1;32min\u001b[0m \u001b[0menumerate\u001b[0m\u001b[1;33m(\u001b[0m\u001b[0mdays\u001b[0m\u001b[1;33m)\u001b[0m\u001b[1;33m:\u001b[0m\u001b[1;33m\u001b[0m\u001b[1;33m\u001b[0m\u001b[0m\n\u001b[0;32m     12\u001b[0m         \u001b[1;31m# print(i, v)\u001b[0m\u001b[1;33m\u001b[0m\u001b[1;33m\u001b[0m\u001b[1;33m\u001b[0m\u001b[0m\n\u001b[1;32m---> 13\u001b[1;33m         \u001b[1;32mif\u001b[0m \u001b[0mv\u001b[0m \u001b[1;33m>\u001b[0m \u001b[0mdays\u001b[0m\u001b[1;33m[\u001b[0m\u001b[0mi\u001b[0m\u001b[1;33m+\u001b[0m\u001b[1;36m1\u001b[0m\u001b[1;33m]\u001b[0m\u001b[1;33m:\u001b[0m\u001b[1;33m\u001b[0m\u001b[1;33m\u001b[0m\u001b[0m\n\u001b[0m\u001b[0;32m     14\u001b[0m             \u001b[0mstk\u001b[0m\u001b[1;33m.\u001b[0m\u001b[0mappend\u001b[0m\u001b[1;33m(\u001b[0m\u001b[1;33m(\u001b[0m\u001b[0mv\u001b[0m\u001b[1;33m,\u001b[0m \u001b[0mi\u001b[0m\u001b[1;33m)\u001b[0m\u001b[1;33m)\u001b[0m\u001b[1;33m\u001b[0m\u001b[1;33m\u001b[0m\u001b[0m\n\u001b[0;32m     15\u001b[0m \u001b[1;33m\u001b[0m\u001b[0m\n",
      "\u001b[1;31mIndexError\u001b[0m: list index out of range"
     ]
    }
   ],
   "source": [
    "# 739\n",
    "days = [73,74,75,71,69,72,76,73]\n",
    "\n",
    "def do(days):\n",
    "    n = len(days) - 1\n",
    "    stk = []\n",
    "    d = n * [0]\n",
    "\n",
    "    # print(d, len(d))\n",
    "\n",
    "    for i, v in enumerate(days):\n",
    "        # print(i, v)\n",
    "        if v > days[i+1]:     \n",
    "            stk.append((v, i))\n",
    "        \n",
    "\n",
    "do(days)"
   ]
  },
  {
   "cell_type": "code",
   "execution_count": 102,
   "metadata": {},
   "outputs": [],
   "source": [
    "# 922\n",
    "arr = [-4,-1,0,3,10]\n",
    "squared = []\n",
    "def method_1():\n",
    "    for i in arr:\n",
    "        squared.append((i)*(i))\n",
    "\n",
    "    print(squared)\n",
    "\n",
    "    for i in range(len(squared)):\n",
    "        j = i\n",
    "        for j in range(len(squared)):\n",
    "            if squared[i] < squared[j]:\n",
    "                squared[i] , squared[j] = squared[j] , squared[i]\n",
    "\n",
    "\n",
    "    print(squared)"
   ]
  },
  {
   "cell_type": "code",
   "execution_count": 101,
   "metadata": {},
   "outputs": [
    {
     "name": "stdout",
     "output_type": "stream",
     "text": [
      "4 > 10\n",
      "4 > 3\n",
      "1 > 3\n",
      "1 > 0\n",
      "0 > 0\n",
      "[100, 16, 9, 1, 0]\n",
      "[0, 1, 9, 16, 100]\n"
     ]
    }
   ],
   "source": [
    "def method_2(arr):\n",
    "    left = 0\n",
    "    right = len(arr) - 1\n",
    "    result = []\n",
    "\n",
    "    while left <= right:\n",
    "        print(f'{abs(arr[left])} > {abs(arr[right])}')\n",
    "        if abs(arr[left]) > abs(arr[right]): # abs remove -\n",
    "            result.append(arr[left] **2)\n",
    "            left += 1\n",
    "        else:\n",
    "            result.append(arr[right] **2)\n",
    "            right -= 1\n",
    "\n",
    "    print(result)\n",
    "    result.reverse()\n",
    "    print(result)\n",
    "\n",
    "\n",
    "method_2(arr)"
   ]
  },
  {
   "cell_type": "code",
   "execution_count": 103,
   "metadata": {},
   "outputs": [
    {
     "name": "stdout",
     "output_type": "stream",
     "text": [
      "2\n",
      "[[0, 0, 0, 0], [0, 0, 0, 0], [0, 0, 0, 0], [0, 0, 0, 0]]\n",
      "[[0, 1, 1, 0], [0, 0, 0, 1], [0, 0, 0, 0], [0, 0, 0, 0]]\n"
     ]
    }
   ],
   "source": [
    "n = 4\n",
    "A = [[0,1],[0,2],[1,3]]\n",
    "print(len(A[0]))\n",
    "# create Adjence Matrix\n",
    "\n",
    "#M = [[0] * n for x in range(n)]\n",
    "\n",
    "M = []\n",
    "for i in range(n):\n",
    "    M.append([0] * (n))\n",
    "\n",
    "print(M)\n",
    "\n",
    "for u, v in A:\n",
    "    M[u][v] = 1 # for directed\n",
    "    # M[v][u] = 1 # for undirected\n",
    "    # print(u,v)\n",
    "\n",
    "print(M)"
   ]
  },
  {
   "cell_type": "code",
   "execution_count": 104,
   "metadata": {},
   "outputs": [
    {
     "name": "stdout",
     "output_type": "stream",
     "text": [
      "defaultdict(<class 'list'>, {0: [1, 3], 1: [0, 2], 2: [1, 4, 5], 3: [0, 4, 6, 7], 4: [3, 2, 5], 6: [3], 7: [3], 5: [4, 2]})\n",
      "3 is connected to : [0, 4, 6, 7]\n"
     ]
    }
   ],
   "source": [
    "from collections import defaultdict\n",
    "A = [[0,1],[1,2],[0,3],[3,4],[3,6],[3,7],[4,2],[4,5],[5,2]]\n",
    "\n",
    "D = defaultdict(list)\n",
    "\n",
    "for u,v in A:\n",
    "    D[u].append(v) # directed\n",
    "    D[v].append(u) # undirected\n",
    "\n",
    "\n",
    "print(D)\n",
    "\n",
    "print(f'3 is connected to : {D[3]}')"
   ]
  },
  {
   "cell_type": "code",
   "execution_count": 105,
   "metadata": {},
   "outputs": [
    {
     "name": "stdout",
     "output_type": "stream",
     "text": [
      "appended : (\n",
      "appended : [\n",
      "True\n"
     ]
    }
   ],
   "source": [
    "s = '([])'\n",
    "\n",
    "def do(s):\n",
    "    stk = []\n",
    "    for b in s:\n",
    "        # get open\n",
    "        if b == '(' or b == '{' or b == '[':\n",
    "            print(f'appended : {b}')\n",
    "            stk.append(b)\n",
    "        else:\n",
    "            popped = stk.pop()\n",
    "            if popped == '(' and b == ')': # (]\n",
    "                pass\n",
    "            elif popped == '[' and b == ']': # (]\n",
    "                pass\n",
    "            elif popped == '{' and b == '}': # (]\n",
    "                pass\n",
    "            else:\n",
    "                return False\n",
    "            \n",
    "    return not stk\n",
    "\n",
    "print(do(s))"
   ]
  },
  {
   "cell_type": "code",
   "execution_count": 106,
   "metadata": {},
   "outputs": [
    {
     "name": "stdout",
     "output_type": "stream",
     "text": [
      "openning : [\n",
      "openning : {\n",
      "popped : {, in hash : {\n",
      "popped : [, in hash : [\n",
      "True\n"
     ]
    }
   ],
   "source": [
    "brackets = '[{}]'\n",
    "\n",
    "def do(brackets):\n",
    "    hashmap = {')':'(', '}':'{', ']':'['}\n",
    "    stk = []    \n",
    "    for b in brackets:\n",
    "        if b not in hashmap.keys():\n",
    "            print(f'openning : {b}')\n",
    "            stk.append(b)\n",
    "        else:\n",
    "            if not stk:\n",
    "                return False\n",
    "            else:\n",
    "                popped = stk.pop()\n",
    "                print(f'popped : {popped}, in hash : {hashmap[b]}')\n",
    "                if popped != hashmap[b]:\n",
    "                    print(f'not equal : {popped} , {hashmap[b]}')\n",
    "                    return False\n",
    "\n",
    "    return not stk\n",
    "\n",
    "print(do(brackets))"
   ]
  },
  {
   "cell_type": "code",
   "execution_count": 107,
   "metadata": {},
   "outputs": [],
   "source": [
    "# find if path is exist"
   ]
  },
  {
   "cell_type": "code",
   "execution_count": 111,
   "metadata": {},
   "outputs": [],
   "source": [
    "\n",
    "def validPath(n, edges, source, destination):\n",
    "\n",
    "    if source == destination:\n",
    "        return True\n",
    "\n",
    "    graph = defaultdict(list)\n",
    "\n",
    "    for u, v in edges:\n",
    "        graph[u].append(v)\n",
    "        graph[v].append(u)\n",
    "\n",
    "    seen = set()\n",
    "    seen.add(source)\n",
    "\n",
    "    def dfs(i):\n",
    "        if i == destination:\n",
    "            return True\n",
    "\n",
    "        for nei_node in graph[i]:\n",
    "            if nei_node not in seen:\n",
    "                seen.add(nei_node)\n",
    "                if dfs(nei_node):\n",
    "                    return True\n",
    "\n",
    "        return False\n",
    "\n",
    "    return dfs(source)"
   ]
  },
  {
   "cell_type": "code",
   "execution_count": 112,
   "metadata": {},
   "outputs": [
    {
     "data": {
      "text/plain": [
       "True"
      ]
     },
     "execution_count": 112,
     "metadata": {},
     "output_type": "execute_result"
    }
   ],
   "source": [
    "validPath(3,[[0,1], [1,2],[2,0]],0,2)"
   ]
  },
  {
   "cell_type": "code",
   "execution_count": 113,
   "metadata": {},
   "outputs": [
    {
     "data": {
      "text/plain": [
       "False"
      ]
     },
     "execution_count": 113,
     "metadata": {},
     "output_type": "execute_result"
    }
   ],
   "source": [
    "edges = [[0,1],[0,2],[3,5],[5,4],[4,3]]\n",
    "validPath(6,edges,0,5)"
   ]
  },
  {
   "cell_type": "code",
   "execution_count": 117,
   "metadata": {},
   "outputs": [],
   "source": [
    "def validPath(n, edges, source, destination):\n",
    "\n",
    "    if source == destination:\n",
    "        return True\n",
    "\n",
    "    graph = defaultdict(list)\n",
    "\n",
    "    for u, v in edges:\n",
    "        graph[u].append(v)\n",
    "        graph[v].append(u)\n",
    "\n",
    "    seen = set()\n",
    "    seen.add(source)\n",
    "    stack = [source]\n",
    "    \n",
    "    while stack:\n",
    "        node = stack.pop()\n",
    "        \n",
    "        if node == destination:\n",
    "            return True\n",
    "        \n",
    "    \n",
    "        for nei_node in graph[node]:\n",
    "            if nei_node not in seen:\n",
    "                seen.add(nei_node)\n",
    "                stack.append(nei_node)\n",
    "    \n",
    "\n",
    "    return False"
   ]
  },
  {
   "cell_type": "code",
   "execution_count": 118,
   "metadata": {},
   "outputs": [
    {
     "data": {
      "text/plain": [
       "False"
      ]
     },
     "execution_count": 118,
     "metadata": {},
     "output_type": "execute_result"
    }
   ],
   "source": [
    "edges = [[0,1],[0,2],[3,5],[5,4],[4,3]]\n",
    "validPath(6,edges,0,5)"
   ]
  },
  {
   "cell_type": "code",
   "execution_count": 119,
   "metadata": {},
   "outputs": [
    {
     "data": {
      "text/plain": [
       "True"
      ]
     },
     "execution_count": 119,
     "metadata": {},
     "output_type": "execute_result"
    }
   ],
   "source": [
    "validPath(3,[[0,1], [1,2],[2,0]],0,2)"
   ]
  },
  {
   "cell_type": "code",
   "execution_count": 120,
   "metadata": {},
   "outputs": [],
   "source": [
    "# ila number"
   ]
  },
  {
   "cell_type": "code",
   "execution_count": 121,
   "metadata": {},
   "outputs": [],
   "source": [
    "grid = [\n",
    "  [\"1\",\"1\",\"1\",\"1\",\"0\"],\n",
    "  [\"1\",\"1\",\"0\",\"1\",\"0\"],\n",
    "  [\"1\",\"1\",\"0\",\"0\",\"0\"],\n",
    "  [\"0\",\"0\",\"0\",\"0\",\"0\"]\n",
    "]"
   ]
  },
  {
   "cell_type": "code",
   "execution_count": 122,
   "metadata": {},
   "outputs": [],
   "source": [
    "def numIslands(grid):\n",
    "    m, n = len(grid), len(grid[0])\n",
    "\n",
    "    def dfs(i, j):\n",
    "        if i < 0 or i >= m or j < 0 or j >= n or grid[i][j] != '1':\n",
    "            return\n",
    "        else:\n",
    "            grid[i][j] = '0'\n",
    "            dfs(i, j+1) # right\n",
    "            dfs(i+1, j) # down\n",
    "            dfs(i, j-1) # left\n",
    "            dfs(1-i, j) # up\n",
    "\n",
    "    num_il = 0\n",
    "    for i in range(m):\n",
    "        for j in range(n):\n",
    "            if grid[i][j] == '1':\n",
    "                num_il += 1\n",
    "                dfs(i,j) # convert the neig to zeros\n",
    "\n",
    "\n",
    "    return num_il"
   ]
  },
  {
   "cell_type": "code",
   "execution_count": null,
   "metadata": {},
   "outputs": [],
   "source": []
  }
 ],
 "metadata": {
  "kernelspec": {
   "display_name": "Python 3",
   "language": "python",
   "name": "python3"
  },
  "language_info": {
   "codemirror_mode": {
    "name": "ipython",
    "version": 3
   },
   "file_extension": ".py",
   "mimetype": "text/x-python",
   "name": "python",
   "nbconvert_exporter": "python",
   "pygments_lexer": "ipython3",
   "version": "3.8.5"
  }
 },
 "nbformat": 4,
 "nbformat_minor": 4
}
