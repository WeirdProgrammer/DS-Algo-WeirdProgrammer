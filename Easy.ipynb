{
 "cells": [
  {
   "cell_type": "code",
   "execution_count": 3,
   "metadata": {},
   "outputs": [],
   "source": [
    "def destroy_ship():\n",
    "# game loop\n",
    "    while True:\n",
    "        max_height = -1  # Track the highest mountain\n",
    "        target_index = -1  # Track the index of the highest mountain\n",
    "        \n",
    "        for i in range(8):\n",
    "            mountain_h = int(input())  # Read the mountain height\n",
    "            print('max_height : ', max_height)\n",
    "            print('target_index : ', target_index)\n",
    "            if mountain_h > max_height:\n",
    "                max_height = mountain_h  # Update max height\n",
    "                target_index = i  # Store the index of the highest mountain\n",
    "                print('max_height 1 : ', max_height)\n",
    "                print('target_index 1 : ', target_index)\n",
    "\n",
    "        print(target_index) "
   ]
  },
  {
   "cell_type": "code",
   "execution_count": 5,
   "metadata": {},
   "outputs": [],
   "source": [
    "# destroy_ship()"
   ]
  },
  {
   "cell_type": "markdown",
   "metadata": {},
   "source": [
    "Write a program that prints the temperature closest to 0 among input data. If two numbers are equally close to zero, positive integer has to be considered closest to zero (for instance, if the temperatures are -5 and 5, then display 5)."
   ]
  },
  {
   "cell_type": "code",
   "execution_count": 30,
   "metadata": {},
   "outputs": [
    {
     "name": "stdout",
     "output_type": "stream",
     "text": [
      "-1\n"
     ]
    }
   ],
   "source": [
    "temps = [5,10,22,11,8,6,-5, -1]\n",
    "\n",
    "def closeToZero(temps):\n",
    "    closest = 5526\n",
    "    for temp in temps:\n",
    "        if abs(temp) < abs(closest) or (abs(temp) == abs(closest) and temp > closest):\n",
    "            closest = temp\n",
    "\n",
    "    print(closest if temps else 0)\n",
    "\n",
    "closeToZero(arr)"
   ]
  },
  {
   "cell_type": "code",
   "execution_count": null,
   "metadata": {},
   "outputs": [],
   "source": []
  },
  {
   "cell_type": "code",
   "execution_count": 31,
   "metadata": {},
   "outputs": [
    {
     "name": "stdout",
     "output_type": "stream",
     "text": [
      "Character: C\n",
      "Binary: 1000011\n",
      "Unary Encoding: 0  0 00  0000 0  00\n"
     ]
    }
   ],
   "source": [
    "def binary_to_unary(binary_str):\n",
    "    unary_code = []\n",
    "    current_bit = binary_str[0]\n",
    "    count = 0\n",
    "    \n",
    "    for bit in binary_str:\n",
    "        if bit == current_bit:\n",
    "            count += 1\n",
    "        else:\n",
    "            unary_code.append(\"0\" if current_bit == \"1\" else \"00\")\n",
    "            unary_code.append(\" \" + \"0\" * count)\n",
    "            current_bit = bit\n",
    "            count = 1\n",
    "    \n",
    "    unary_code.append(\"0\" if current_bit == \"1\" else \"00\")\n",
    "    unary_code.append(\" \" + \"0\" * count)\n",
    "    \n",
    "    return \" \".join(unary_code)\n",
    "\n",
    "\n",
    "def char_to_unary(char):\n",
    "    binary_representation = format(ord(char), '07b')  # Convert char to 7-bit binary\n",
    "    return binary_to_unary(binary_representation)\n",
    "\n",
    "\n",
    "# Example usage\n",
    "char = 'C'\n",
    "unary_encoded = char_to_unary(char)\n",
    "print(f\"Character: {char}\")\n",
    "print(f\"Binary: {format(ord(char), '07b')}\")\n",
    "print(f\"Unary Encoding: {unary_encoded}\")\n"
   ]
  },
  {
   "cell_type": "code",
   "execution_count": null,
   "metadata": {},
   "outputs": [],
   "source": []
  },
  {
   "cell_type": "code",
   "execution_count": null,
   "metadata": {},
   "outputs": [],
   "source": []
  }
 ],
 "metadata": {
  "kernelspec": {
   "display_name": "Python 3",
   "language": "python",
   "name": "python3"
  },
  "language_info": {
   "codemirror_mode": {
    "name": "ipython",
    "version": 3
   },
   "file_extension": ".py",
   "mimetype": "text/x-python",
   "name": "python",
   "nbconvert_exporter": "python",
   "pygments_lexer": "ipython3",
   "version": "3.8.5"
  }
 },
 "nbformat": 4,
 "nbformat_minor": 4
}
