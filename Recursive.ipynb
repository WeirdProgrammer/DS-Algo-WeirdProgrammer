{
 "cells": [
  {
   "cell_type": "code",
   "execution_count": 1,
   "metadata": {},
   "outputs": [],
   "source": [
    "# Recursive"
   ]
  },
  {
   "cell_type": "code",
   "execution_count": 9,
   "metadata": {},
   "outputs": [],
   "source": [
    "class Node:\n",
    "    def __init__(self, val=None, right=None, left=None):\n",
    "        self.val = val\n",
    "        self.right = right\n",
    "        self.left = left\n",
    "        \n",
    "    def insert(self, val):\n",
    "        pass\n",
    "        \n",
    "    def BFS(self, node):\n",
    "        if node is None:\n",
    "            return\n",
    "        \n",
    "        print(node.val)\n",
    "        \n",
    "        return self.BFS(node.right), self.BFS(node.left)\n",
    "            "
   ]
  },
  {
   "cell_type": "code",
   "execution_count": 10,
   "metadata": {},
   "outputs": [],
   "source": [
    "root = Node(1)\n",
    "a = Node(2)\n",
    "b = Node(3)\n",
    "c = Node(4)\n",
    "d = Node(5)"
   ]
  },
  {
   "cell_type": "code",
   "execution_count": 11,
   "metadata": {},
   "outputs": [],
   "source": [
    "root.right = a\n",
    "root.left = b\n",
    "b.right = c\n",
    "b.left = d"
   ]
  },
  {
   "cell_type": "code",
   "execution_count": 12,
   "metadata": {},
   "outputs": [
    {
     "name": "stdout",
     "output_type": "stream",
     "text": [
      "1\n",
      "2\n",
      "3\n",
      "4\n",
      "5\n"
     ]
    },
    {
     "data": {
      "text/plain": [
       "((None, None), ((None, None), (None, None)))"
      ]
     },
     "execution_count": 12,
     "metadata": {},
     "output_type": "execute_result"
    }
   ],
   "source": [
    "root.BFS(root)"
   ]
  },
  {
   "cell_type": "code",
   "execution_count": 21,
   "metadata": {},
   "outputs": [],
   "source": [
    "def order(size, *args, **kwargs):\n",
    "    print(f'order size : {size}')\n",
    "    for s in args:\n",
    "        print(f'- {s}')\n",
    "    \n",
    "    for k, v in kwargs.items():\n",
    "        print(f'-> {k} : {v}')"
   ]
  },
  {
   "cell_type": "code",
   "execution_count": 22,
   "metadata": {},
   "outputs": [
    {
     "name": "stdout",
     "output_type": "stream",
     "text": [
      "order size : large\n",
      "- garlic\n",
      "- dynamic souce\n",
      "-> delivery : True\n",
      "-> Type : 1\n"
     ]
    }
   ],
   "source": [
    "order('large', 'garlic', 'dynamic souce', delivery=True, Type=1)"
   ]
  },
  {
   "cell_type": "code",
   "execution_count": 3,
   "metadata": {},
   "outputs": [],
   "source": [
    "def callUrSelf(n):\n",
    "    print(n)\n",
    "    if n == 11:\n",
    "        return n\n",
    "    callUrSelf(n + 1)"
   ]
  },
  {
   "cell_type": "code",
   "execution_count": 4,
   "metadata": {},
   "outputs": [
    {
     "name": "stdout",
     "output_type": "stream",
     "text": [
      "5\n",
      "6\n",
      "7\n",
      "8\n",
      "9\n",
      "10\n",
      "11\n"
     ]
    }
   ],
   "source": [
    "callUrSelf(5)"
   ]
  },
  {
   "cell_type": "code",
   "execution_count": 10,
   "metadata": {},
   "outputs": [],
   "source": [
    "def urInput():\n",
    "    num = eval(input('Enter the number : '))\n",
    "    print(f'ur input : {num}')\n",
    "    def callUrSelf(num):\n",
    "        if num == 11:\n",
    "            return num\n",
    "        callUrSelf(num + 1)\n",
    "        \n",
    "    print(callUrSelf(num))"
   ]
  },
  {
   "cell_type": "code",
   "execution_count": 11,
   "metadata": {},
   "outputs": [
    {
     "name": "stdout",
     "output_type": "stream",
     "text": [
      "Enter the number : 7\n",
      "ur input : 7\n",
      "None\n"
     ]
    }
   ],
   "source": [
    "urInput()"
   ]
  },
  {
   "cell_type": "code",
   "execution_count": 16,
   "metadata": {},
   "outputs": [],
   "source": [
    "def facrorial(n):\n",
    "    if n == 1:\n",
    "        return 1\n",
    "    return n * facrorial(n-1)"
   ]
  },
  {
   "cell_type": "code",
   "execution_count": 17,
   "metadata": {},
   "outputs": [
    {
     "data": {
      "text/plain": [
       "24"
      ]
     },
     "execution_count": 17,
     "metadata": {},
     "output_type": "execute_result"
    }
   ],
   "source": [
    "facrorial(4)"
   ]
  },
  {
   "cell_type": "code",
   "execution_count": 1,
   "metadata": {},
   "outputs": [],
   "source": [
    "class Node:\n",
    "    def __init__(self, value):\n",
    "        self.value = value\n",
    "        self.left = None\n",
    "        self.right = None"
   ]
  },
  {
   "cell_type": "code",
   "execution_count": 114,
   "metadata": {},
   "outputs": [],
   "source": [
    "class BinarySearchTree:\n",
    "    def __init__(self):\n",
    "        self.root = None\n",
    "\n",
    "    def insert(self, value):\n",
    "        new_node = Node(value)\n",
    "        if self.root is None:\n",
    "            self.root = new_node\n",
    "            return True\n",
    "        temp = self.root\n",
    "        while (True):\n",
    "            if new_node.value == temp.value:\n",
    "                return False\n",
    "            if new_node.value < temp.value:\n",
    "                if temp.left is None:\n",
    "                    temp.left = new_node\n",
    "                    return True\n",
    "                temp = temp.left\n",
    "            else: \n",
    "                if temp.right is None:\n",
    "                    temp.right = new_node\n",
    "                    return True\n",
    "                temp = temp.right\n",
    "\n",
    "    def contains(self, value):\n",
    "        temp = self.root\n",
    "        while (temp is not None):\n",
    "            if value < temp.value:\n",
    "                temp = temp.left\n",
    "            elif value > temp.value:\n",
    "                temp = temp.right\n",
    "            else:\n",
    "                return True\n",
    "        return False\n",
    "        \n",
    "    def __r_contains(self, current_node, value):\n",
    "        if current_node == None: \n",
    "            return False      \n",
    "        if value == current_node.value:\n",
    "            return True \n",
    "        if value < current_node.value:\n",
    "            return self.__r_contains(current_node.left, value) \n",
    "        if value > current_node.value:\n",
    "            return self.__r_contains(current_node.right, value)\n",
    "\n",
    "\n",
    "    def r_contains(self, value):\n",
    "        return self.__r_contains(self.root, value)\n",
    "    \n",
    "    def __r_insert(self, current_node, value):\n",
    "        if current_node == None:\n",
    "            return Node(value)\n",
    "\n",
    "        if value < current_node.value:\n",
    "            current_node.left =  self.__r_insert(current_node.left, value)\n",
    "        if value > current_node.value:\n",
    "            current_node.right = self.__r_insert(current_node.right, value)\n",
    "            \n",
    "        return current_node\n",
    "    \n",
    "    def r_insert(self, val):\n",
    "        if self.root is None:\n",
    "            self.root = Node(val)\n",
    "        else:\n",
    "            self.__r_insert(self.root, val)\n",
    "            \n",
    "    def __r_delete(self, current_node, val):\n",
    "        if current_node == None: # if not in  the tree\n",
    "            return None\n",
    "        \n",
    "        if val < current_node.value: # left traverse to find the node\n",
    "            current_node.left = self.__r_delete(current_node.left, val)\n",
    "        \n",
    "        elif val > current_node.value: # right traverse to find the node\n",
    "            current_node.right = self.__r_delete(current_node.right, val)\n",
    "            \n",
    "        else: # in else it means we find the node\n",
    "            if current_node.left == None and current_node.right == None:\n",
    "                # no leafs we can just return None\n",
    "                return None\n",
    "            elif current_node.left:\n",
    "                current_node = current_node.left\n",
    "            elif current_node.right:\n",
    "                current_node = current_node.right\n",
    "            else:\n",
    "                sub_tree_min = self.min_val(current_node.right)\n",
    "                current_node.value = sub_tree_min\n",
    "                current_node.right = self.__r_delete(current_node.right, sub_tree_min)                \n",
    "                \n",
    "        return current_node \n",
    "            \n",
    "            \n",
    "    \n",
    "    def r_delete(self, val):\n",
    "        if self.root is None:\n",
    "            return False\n",
    "        else:\n",
    "            self.__r_delete(self.root, val)\n",
    "            \n",
    "            \n",
    "    def min_val(self, current_node=None):\n",
    "#         dummy_tree = self.root if current_node is None else current_node\n",
    "        dummy_tree = current_node\n",
    "        while dummy_tree.left is not None:\n",
    "#             print(f'-- > {dummy_tree.value}')            \n",
    "            dummy_tree = dummy_tree.left\n",
    "            \n",
    "        return dummy_tree.value\n",
    "        "
   ]
  },
  {
   "cell_type": "code",
   "execution_count": 115,
   "metadata": {},
   "outputs": [
    {
     "data": {
      "text/plain": [
       "True"
      ]
     },
     "execution_count": 115,
     "metadata": {},
     "output_type": "execute_result"
    }
   ],
   "source": [
    "my_tree = BinarySearchTree()\n",
    "my_tree.insert(47)\n",
    "my_tree.insert(21)\n",
    "my_tree.insert(76)\n",
    "my_tree.insert(80)\n",
    "my_tree.insert(66)\n",
    "\n",
    "# my_tree.r_insert(100)\n",
    "# my_tree.r_insert(50)\n",
    "# my_tree.r_insert(33)\n",
    "# my_tree.r_insert(60)\n",
    "# my_tree.r_insert(11)\n",
    "# my_tree.r_insert(8)"
   ]
  },
  {
   "cell_type": "code",
   "execution_count": 116,
   "metadata": {},
   "outputs": [
    {
     "name": "stdout",
     "output_type": "stream",
     "text": [
      "BST Contains 2:\n",
      "False\n",
      "\n",
      "BST Contains 1:\n",
      "False\n"
     ]
    }
   ],
   "source": [
    "print('BST Contains 2:')\n",
    "print(my_tree.r_contains(11))\n",
    "\n",
    "print('\\nBST Contains 1:')\n",
    "print(my_tree.r_contains(8))"
   ]
  },
  {
   "cell_type": "code",
   "execution_count": 117,
   "metadata": {},
   "outputs": [
    {
     "ename": "AttributeError",
     "evalue": "'NoneType' object has no attribute 'left'",
     "output_type": "error",
     "traceback": [
      "\u001b[1;31m---------------------------------------------------------------------------\u001b[0m",
      "\u001b[1;31mAttributeError\u001b[0m                            Traceback (most recent call last)",
      "\u001b[1;32m<ipython-input-117-746b26237cc2>\u001b[0m in \u001b[0;36m<module>\u001b[1;34m\u001b[0m\n\u001b[1;32m----> 1\u001b[1;33m \u001b[0mmy_tree\u001b[0m\u001b[1;33m.\u001b[0m\u001b[0mmin_val\u001b[0m\u001b[1;33m(\u001b[0m\u001b[1;33m)\u001b[0m\u001b[1;33m\u001b[0m\u001b[1;33m\u001b[0m\u001b[0m\n\u001b[0m",
      "\u001b[1;32m<ipython-input-114-62a64fcfc8ca>\u001b[0m in \u001b[0;36mmin_val\u001b[1;34m(self, current_node)\u001b[0m\n\u001b[0;32m    102\u001b[0m \u001b[1;31m#         dummy_tree = self.root if current_node is None else current_node\u001b[0m\u001b[1;33m\u001b[0m\u001b[1;33m\u001b[0m\u001b[1;33m\u001b[0m\u001b[0m\n\u001b[0;32m    103\u001b[0m         \u001b[0mdummy_tree\u001b[0m \u001b[1;33m=\u001b[0m \u001b[0mcurrent_node\u001b[0m\u001b[1;33m\u001b[0m\u001b[1;33m\u001b[0m\u001b[0m\n\u001b[1;32m--> 104\u001b[1;33m         \u001b[1;32mwhile\u001b[0m \u001b[0mdummy_tree\u001b[0m\u001b[1;33m.\u001b[0m\u001b[0mleft\u001b[0m \u001b[1;32mis\u001b[0m \u001b[1;32mnot\u001b[0m \u001b[1;32mNone\u001b[0m\u001b[1;33m:\u001b[0m\u001b[1;33m\u001b[0m\u001b[1;33m\u001b[0m\u001b[0m\n\u001b[0m\u001b[0;32m    105\u001b[0m \u001b[1;31m#             print(f'-- > {dummy_tree.value}')\u001b[0m\u001b[1;33m\u001b[0m\u001b[1;33m\u001b[0m\u001b[1;33m\u001b[0m\u001b[0m\n\u001b[0;32m    106\u001b[0m             \u001b[0mdummy_tree\u001b[0m \u001b[1;33m=\u001b[0m \u001b[0mdummy_tree\u001b[0m\u001b[1;33m.\u001b[0m\u001b[0mleft\u001b[0m\u001b[1;33m\u001b[0m\u001b[1;33m\u001b[0m\u001b[0m\n",
      "\u001b[1;31mAttributeError\u001b[0m: 'NoneType' object has no attribute 'left'"
     ]
    }
   ],
   "source": [
    "my_tree.min_val()"
   ]
  },
  {
   "cell_type": "code",
   "execution_count": 113,
   "metadata": {},
   "outputs": [
    {
     "data": {
      "text/plain": [
       "21"
      ]
     },
     "execution_count": 113,
     "metadata": {},
     "output_type": "execute_result"
    }
   ],
   "source": [
    "my_tree.min_val(my_tree.root.left)"
   ]
  },
  {
   "cell_type": "code",
   "execution_count": null,
   "metadata": {},
   "outputs": [],
   "source": []
  },
  {
   "cell_type": "code",
   "execution_count": null,
   "metadata": {},
   "outputs": [],
   "source": []
  }
 ],
 "metadata": {
  "kernelspec": {
   "display_name": "Python 3",
   "language": "python",
   "name": "python3"
  },
  "language_info": {
   "codemirror_mode": {
    "name": "ipython",
    "version": 3
   },
   "file_extension": ".py",
   "mimetype": "text/x-python",
   "name": "python",
   "nbconvert_exporter": "python",
   "pygments_lexer": "ipython3",
   "version": "3.8.5"
  }
 },
 "nbformat": 4,
 "nbformat_minor": 4
}
