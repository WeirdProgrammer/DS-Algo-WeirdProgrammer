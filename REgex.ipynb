{
 "cells": [
  {
   "cell_type": "code",
   "execution_count": 1,
   "metadata": {},
   "outputs": [],
   "source": [
    "import re"
   ]
  },
  {
   "cell_type": "code",
   "execution_count": 17,
   "metadata": {},
   "outputs": [],
   "source": [
    "pattern_email = \"[a-zA-Z0-9]+@[a-zA-Z]+\\.(com|net|du)\""
   ]
  },
  {
   "cell_type": "code",
   "execution_count": 18,
   "metadata": {},
   "outputs": [],
   "source": [
    "email = 'emaL@mail.com'"
   ]
  },
  {
   "cell_type": "code",
   "execution_count": 19,
   "metadata": {},
   "outputs": [
    {
     "name": "stdout",
     "output_type": "stream",
     "text": [
      "non-valid\n"
     ]
    }
   ],
   "source": [
    "if re.search(pattern_email, string):\n",
    "    print('valid')\n",
    "else:\n",
    "    print('non-valid')"
   ]
  },
  {
   "cell_type": "code",
   "execution_count": 25,
   "metadata": {},
   "outputs": [
    {
     "data": {
      "text/plain": [
       "'98'"
      ]
     },
     "execution_count": 25,
     "metadata": {},
     "output_type": "execute_result"
    }
   ],
   "source": [
    "pattern_digits = r'\\d+'\n",
    "string = 'i9am pla*y8ing! footbal-l'\n",
    "numbers = re.findall(pattern_digits, string)\n",
    "numbers_only = ''.join(numbers)\n",
    "numbers_only"
   ]
  },
  {
   "cell_type": "code",
   "execution_count": 26,
   "metadata": {},
   "outputs": [
    {
     "name": "stdout",
     "output_type": "stream",
     "text": [
      " *! -\n"
     ]
    }
   ],
   "source": [
    "string = 'i9am pla*ying! footbal-l'\n",
    "pattern_special_chars = r'[^a-zA-Z0-9]'\n",
    "# Extract only non-alphabetic and non-digit characters\n",
    "special_chars = re.findall(pattern_special_chars, string)\n",
    "\n",
    "# Convert the list into a single string or keep it as a list\n",
    "special_chars_string = ''.join(special_chars)  # If you want a single string\n",
    "# special_chars_list = special_chars  # If you want a list\n",
    "\n",
    "print(special_chars_string)\n"
   ]
  },
  {
   "cell_type": "code",
   "execution_count": 27,
   "metadata": {},
   "outputs": [
    {
     "name": "stdout",
     "output_type": "stream",
     "text": [
      "My phone number is ***-***-****.\n"
     ]
    }
   ],
   "source": [
    "text = \"My phone number is 123-456-7890.\"\n",
    "cleaned_text = re.sub(r'\\d', '*', text)  # Replace all digits with '*'\n",
    "print(cleaned_text)\n"
   ]
  },
  {
   "cell_type": "code",
   "execution_count": 32,
   "metadata": {},
   "outputs": [
    {
     "name": "stdout",
     "output_type": "stream",
     "text": [
      "i9amplay8ingfootball\n"
     ]
    }
   ],
   "source": [
    "pattern_special_chars = r'[^a-zA-Z0-9]'\n",
    "string = 'i9am pla*y8ing! footbal-l'\n",
    "\n",
    "cleaned_text = re.sub(pattern_special_chars, '', string)  # Replace all special charecters with ''\n",
    "print(cleaned_text)"
   ]
  },
  {
   "cell_type": "code",
   "execution_count": 40,
   "metadata": {},
   "outputs": [
    {
     "name": "stdout",
     "output_type": "stream",
     "text": [
      "iam playing football\n"
     ]
    }
   ],
   "source": [
    "pattern_special_chars = r'[^a-zA-Z ]'\n",
    "string = 'i9am pla*y8ing! footbal-l'\n",
    "\n",
    "cleaned_text = re.sub(pattern_special_chars, '', string)  # Replace all special charecters and num with ''\n",
    "print(cleaned_text)"
   ]
  },
  {
   "cell_type": "code",
   "execution_count": 37,
   "metadata": {},
   "outputs": [
    {
     "name": "stdout",
     "output_type": "stream",
     "text": [
      "This is a sentence with extra spaces.\n"
     ]
    }
   ],
   "source": [
    "import re\n",
    "\n",
    "text = \"This  is   a    sentence with extra spaces.\"\n",
    "cleaned_text = re.sub(r'\\s+', ' ', text)  # Replace multiple spaces with a single space\n",
    "print(cleaned_text.strip())  # Strip to remove leading/trailing spaces\n"
   ]
  },
  {
   "cell_type": "code",
   "execution_count": 39,
   "metadata": {},
   "outputs": [
    {
     "name": "stdout",
     "output_type": "stream",
     "text": [
      "orange banana apple banana apple\n"
     ]
    }
   ],
   "source": [
    "import re\n",
    "\n",
    "text = \"apple banana apple banana apple\"\n",
    "cleaned_text = re.sub(r'apple', 'orange', text, count=1)  # Replace only first 2 occurrences\n",
    "print(cleaned_text)\n"
   ]
  },
  {
   "cell_type": "code",
   "execution_count": 41,
   "metadata": {},
   "outputs": [
    {
     "name": "stdout",
     "output_type": "stream",
     "text": [
      "['9', '8']\n"
     ]
    }
   ],
   "source": [
    "import re\n",
    "\n",
    "string = 'i9am pla*y8ing! footbal-l'\n",
    "\n",
    "# Find all digits\n",
    "digits = re.findall(r'\\d', string)  \n",
    "\n",
    "print(digits)  # Output: ['9', '8']\n"
   ]
  },
  {
   "cell_type": "code",
   "execution_count": 42,
   "metadata": {},
   "outputs": [
    {
     "name": "stdout",
     "output_type": "stream",
     "text": [
      "['*', '!', '-']\n"
     ]
    }
   ],
   "source": [
    "import re\n",
    "\n",
    "string = 'i9am pla*y8ing! footbal-l'\n",
    "\n",
    "# Find all special characters (non-alphabetic, non-numeric)\n",
    "special_chars = re.findall(r'[^a-zA-Z0-9 ]', string)\n",
    "\n",
    "print(special_chars)  # Output: ['*', '!', '-']\n"
   ]
  },
  {
   "cell_type": "code",
   "execution_count": 43,
   "metadata": {},
   "outputs": [
    {
     "name": "stdout",
     "output_type": "stream",
     "text": [
      "Digits: ['9', '8']\n",
      "Special Characters: ['*', '!', '-']\n"
     ]
    }
   ],
   "source": [
    "import re\n",
    "\n",
    "string = 'i9am pla*y8ing! footbal-l'\n",
    "\n",
    "digits = re.findall(r'\\d', string)\n",
    "special_chars = re.findall(r'[^a-zA-Z0-9 ]', string)\n",
    "\n",
    "print(\"Digits:\", digits)  # Output: ['9', '8']\n",
    "print(\"Special Characters:\", special_chars)  # Output: ['*', '!', '-']\n"
   ]
  },
  {
   "cell_type": "code",
   "execution_count": 44,
   "metadata": {},
   "outputs": [
    {
     "name": "stdout",
     "output_type": "stream",
     "text": [
      "Numbers: ['100']\n",
      "Modified text: The price is XXX dollars.\n"
     ]
    }
   ],
   "source": [
    "import re\n",
    "\n",
    "text = \"The price is 100 dollars.\"\n",
    "\n",
    "# Compile the regex pattern once\n",
    "pattern = re.compile(r'\\d+')\n",
    "\n",
    "# Use the compiled pattern multiple times\n",
    "numbers = pattern.findall(text)  # Find numbers\n",
    "new_text = pattern.sub('XXX', text)  # Replace numbers with XXX\n",
    "\n",
    "print(\"Numbers:\", numbers)  # Output: ['100']\n",
    "print(\"Modified text:\", new_text)  # Output: The price is XXX dollars.\n"
   ]
  },
  {
   "cell_type": "code",
   "execution_count": 45,
   "metadata": {},
   "outputs": [
    {
     "name": "stdout",
     "output_type": "stream",
     "text": [
      "Match found in: Hello world!\n",
      "Match found in: Say hello!\n",
      "Match found in: HELLO everyone!\n"
     ]
    }
   ],
   "source": [
    "import re\n",
    "\n",
    "pattern = re.compile(r'hello', re.IGNORECASE)  # Case-insensitive match\n",
    "\n",
    "texts = [\"Hello world!\", \"Say hello!\", \"HELLO everyone!\"]\n",
    "\n",
    "for text in texts:\n",
    "    if pattern.search(text):\n",
    "        print(f\"Match found in: {text}\")\n"
   ]
  },
  {
   "cell_type": "code",
   "execution_count": null,
   "metadata": {},
   "outputs": [],
   "source": []
  }
 ],
 "metadata": {
  "kernelspec": {
   "display_name": "Python 3",
   "language": "python",
   "name": "python3"
  },
  "language_info": {
   "codemirror_mode": {
    "name": "ipython",
    "version": 3
   },
   "file_extension": ".py",
   "mimetype": "text/x-python",
   "name": "python",
   "nbconvert_exporter": "python",
   "pygments_lexer": "ipython3",
   "version": "3.8.5"
  }
 },
 "nbformat": 4,
 "nbformat_minor": 4
}
