{
 "cells": [
  {
   "cell_type": "code",
   "execution_count": 1,
   "metadata": {},
   "outputs": [],
   "source": [
    "# Quick Sort"
   ]
  },
  {
   "cell_type": "code",
   "execution_count": 92,
   "metadata": {},
   "outputs": [],
   "source": [
    "def quick_sort(arr):\n",
    "    if len(arr) <= 1:\n",
    "        return arr\n",
    "    \n",
    "    pivot = arr[len(arr) // 2]\n",
    "#     print(pivot)\n",
    "    \n",
    "    left = [x for x in arr if x < pivot]\n",
    "#     print(left)\n",
    "    middle = [x for x in arr if x == pivot]\n",
    "#     print(middle)\n",
    "    right = [x for x in arr if x > pivot]\n",
    "#     print(right)\n",
    "    \n",
    "    return quick_sort(left) + middle + quick_sort(right)\n",
    "    "
   ]
  },
  {
   "cell_type": "code",
   "execution_count": 93,
   "metadata": {},
   "outputs": [
    {
     "data": {
      "text/plain": [
       "[2, 3, 5, 6, 7, 8, 9]"
      ]
     },
     "execution_count": 93,
     "metadata": {},
     "output_type": "execute_result"
    }
   ],
   "source": [
    "arr = [9, 3, 7, 5, 6, 2, 8]\n",
    "sorted_arr = quick_sort(arr)\n",
    "sorted_arr"
   ]
  },
  {
   "cell_type": "code",
   "execution_count": 94,
   "metadata": {},
   "outputs": [],
   "source": [
    "# binary search, note arr need to be sorted"
   ]
  },
  {
   "cell_type": "code",
   "execution_count": 95,
   "metadata": {},
   "outputs": [],
   "source": [
    "# Linear Search (O(n)) - Check each element one by one.\n",
    "# Binary Search (O(log n)) - Works only on sorted arrays, repeatedly dividing the search space in half."
   ]
  },
  {
   "cell_type": "code",
   "execution_count": 96,
   "metadata": {},
   "outputs": [],
   "source": [
    "def binary_search(arr, target):\n",
    "    left, right = 0 , len(arr) -1\n",
    "    \n",
    "    while left <= right:\n",
    "        middle = (left + right) // 2\n",
    "        \n",
    "        if arr[middle] == target:\n",
    "            return middle\n",
    "        \n",
    "        if arr[middle] > target:\n",
    "            right -= 1\n",
    "        \n",
    "        if arr[middle] < target:\n",
    "            left += 1\n",
    "            \n",
    "    return -1"
   ]
  },
  {
   "cell_type": "code",
   "execution_count": 97,
   "metadata": {},
   "outputs": [
    {
     "data": {
      "text/plain": [
       "3"
      ]
     },
     "execution_count": 97,
     "metadata": {},
     "output_type": "execute_result"
    }
   ],
   "source": [
    "arr = [2, 4, 7, 10, 13, 18]\n",
    "binary_search(arr, 10)"
   ]
  },
  {
   "cell_type": "code",
   "execution_count": 98,
   "metadata": {},
   "outputs": [],
   "source": [
    "def factorial(n):\n",
    "#     print(n , end=',')\n",
    "    if n == 0:\n",
    "        return 1\n",
    "    return n * factorial(n - 1)\n",
    "    # 4 * 3  return 4 * 6 = 24\n",
    "      # 3 * 2 return 2 * 3 = 6\n",
    "        # 2 * 1 return 1 => 2 * 1 = 2"
   ]
  },
  {
   "cell_type": "code",
   "execution_count": 99,
   "metadata": {},
   "outputs": [
    {
     "data": {
      "text/plain": [
       "24"
      ]
     },
     "execution_count": 99,
     "metadata": {},
     "output_type": "execute_result"
    }
   ],
   "source": [
    "factorial(4)"
   ]
  },
  {
   "cell_type": "code",
   "execution_count": 100,
   "metadata": {},
   "outputs": [],
   "source": [
    "def sumOfDigits(n):\n",
    "#     print(n , end=',')\n",
    "    if n == 0:\n",
    "        return 1\n",
    "    return n + factorial(n - 1)"
   ]
  },
  {
   "cell_type": "code",
   "execution_count": 101,
   "metadata": {},
   "outputs": [
    {
     "data": {
      "text/plain": [
       "10"
      ]
     },
     "execution_count": 101,
     "metadata": {},
     "output_type": "execute_result"
    }
   ],
   "source": [
    "sumOfDigits(4)"
   ]
  },
  {
   "cell_type": "code",
   "execution_count": 102,
   "metadata": {},
   "outputs": [],
   "source": [
    "# Graph Traverse"
   ]
  },
  {
   "cell_type": "code",
   "execution_count": 103,
   "metadata": {},
   "outputs": [],
   "source": [
    "graph = {\n",
    "    'A': ['B', 'C'],\n",
    "    'B': ['D', 'E'],\n",
    "    'C': ['F'],\n",
    "    'D': [],\n",
    "    'E': ['F'],\n",
    "    'F': []\n",
    "}"
   ]
  },
  {
   "cell_type": "code",
   "execution_count": 104,
   "metadata": {},
   "outputs": [],
   "source": [
    "def dfs(node, visited=set()):\n",
    "    if node not in visited:\n",
    "        print(node, end=\",\")\n",
    "        visited.add(node)\n",
    "        for nei in graph.get(node, []):\n",
    "            dfs(nei, visited)"
   ]
  },
  {
   "cell_type": "code",
   "execution_count": 105,
   "metadata": {},
   "outputs": [
    {
     "name": "stdout",
     "output_type": "stream",
     "text": [
      "A,B,D,E,F,C,"
     ]
    }
   ],
   "source": [
    "dfs('A')"
   ]
  },
  {
   "cell_type": "code",
   "execution_count": 106,
   "metadata": {},
   "outputs": [
    {
     "data": {
      "text/plain": [
       "['B', 'C']"
      ]
     },
     "execution_count": 106,
     "metadata": {},
     "output_type": "execute_result"
    }
   ],
   "source": [
    "graph.get('A', [])"
   ]
  },
  {
   "cell_type": "code",
   "execution_count": 116,
   "metadata": {},
   "outputs": [
    {
     "name": "stdout",
     "output_type": "stream",
     "text": [
      "A,B,C,D,E,F,"
     ]
    }
   ],
   "source": [
    "from collections import deque\n",
    "\n",
    "graph = {\n",
    "    'A': ['B', 'C'],\n",
    "    'B': ['D', 'E'],\n",
    "    'C': ['F'],\n",
    "    'D': [],\n",
    "    'E': ['F'],\n",
    "    'F': []\n",
    "}\n",
    "\n",
    "def bfs(start):\n",
    "    visited = set()  # Track visited nodes\n",
    "    queue = deque([start])  # Initialize queue with start node\n",
    "\n",
    "    while queue:\n",
    "        node = queue.popleft()  # Dequeue first element\n",
    "        if node not in visited:\n",
    "            print(node, end=\",\")  # Process node\n",
    "            visited.add(node)\n",
    "            queue.extend(graph[node])  # Enqueue neighbors\n",
    "\n",
    "# Run BFS starting from 'A'\n",
    "bfs('A')  # Output: A B C D E F\n"
   ]
  },
  {
   "cell_type": "code",
   "execution_count": 134,
   "metadata": {},
   "outputs": [
    {
     "name": "stdout",
     "output_type": "stream",
     "text": [
      "[(1708342572, 'File uploaded'), (1708342585, 'User logged out')]\n"
     ]
    }
   ],
   "source": [
    "def binary_search_logs(logs, search_range):\n",
    "    left, right = 0, len(logs) - 1\n",
    "    result_index = -1  # To store the first matching index\n",
    "\n",
    "    while left <= right:\n",
    "        mid = (left + right) // 2\n",
    "        timestamp = logs[mid][0]\n",
    "\n",
    "        if search_range[0] <= timestamp <= search_range[1]:\n",
    "            result_index = mid\n",
    "            right = mid - 1  # Keep searching left for earlier occurrences\n",
    "        elif timestamp < search_range[0]:\n",
    "            left = mid + 1\n",
    "        else:\n",
    "            right = mid - 1\n",
    "\n",
    "    return result_index  # Returns -1 if not found\n",
    "\n",
    "def find_logs_in_range(logs, search_range):\n",
    "    index = binary_search_logs(logs, search_range)\n",
    "    if index == -1:\n",
    "        return []\n",
    "\n",
    "    # Collect logs in the range\n",
    "    result = []\n",
    "    while index < len(logs) and search_range[0] <= logs[index][0] <= search_range[1]:\n",
    "        result.append(logs[index])\n",
    "        index += 1\n",
    "\n",
    "    return result\n",
    "\n",
    "# Logs dataset\n",
    "logs = [\n",
    "    (1708342560, \"User logged in\"),\n",
    "    (1708342572, \"File uploaded\"),\n",
    "    (1708342585, \"User logged out\"),\n",
    "    (1708342598, \"Password changed\")\n",
    "]\n",
    "\n",
    "# Search range\n",
    "search_range = (1708342570, 1708342590)\n",
    "\n",
    "# Get logs within the range\n",
    "result_logs = find_logs_in_range(logs, search_range)\n",
    "print(result_logs)  # Expected Output: [(1708342572, \"File uploaded\"), (1708342585, \"User logged out\")]\n"
   ]
  },
  {
   "cell_type": "code",
   "execution_count": 190,
   "metadata": {},
   "outputs": [],
   "source": [
    "# Movie dataset\n",
    "movies = {\n",
    "    \"Interstellar\": {\"sci-fi\", \"drama\", \"adventure\"},\n",
    "    \"The Dark Knight\": {\"action\", \"drama\"},\n",
    "    \"Inception\": {\"sci-fi\", \"thriller\"},\n",
    "    \"Finding Nemo\": {\"animation\", \"adventure\"},\n",
    "}\n",
    "\n",
    "# User's preferred tags\n",
    "user_tags = {\"sci-fi\", \"thriller\", \"action\"}\n",
    "\n",
    "k = 2"
   ]
  },
  {
   "cell_type": "code",
   "execution_count": 233,
   "metadata": {},
   "outputs": [
    {
     "name": "stdout",
     "output_type": "stream",
     "text": [
      "[('Interstellar', 1), ('The Dark Knight', 1), ('Inception', 2)]\n",
      "['Inception', 'Interstellar']\n"
     ]
    }
   ],
   "source": [
    "def findRec(movies, user_tags, k=2):\n",
    "    recommendations = []\n",
    "\n",
    "    for movie_name, tags_set in movies.items():\n",
    "        match_count = len(tags_set & user_tags)  # Count matching tags\n",
    "        if match_count > 0:\n",
    "            recommendations.append((movie_name, match_count))\n",
    "    print(recommendations)\n",
    "    # Sort movies by match count in descending order\n",
    "    recommendations.sort(key=lambda x: x[1], reverse=True)\n",
    "\n",
    "    # Return top-k recommendations\n",
    "    return [movie for movie, _ in recommendations[:k]]\n",
    "\n",
    "# Get top-2 recommendations\n",
    "top_movies = findRec(movies, user_tags, k=2)\n",
    "print(top_movies)  # Expected Output: [\"Inception\", \"Interstellar\"]\n"
   ]
  },
  {
   "cell_type": "code",
   "execution_count": 242,
   "metadata": {},
   "outputs": [
    {
     "data": {
      "text/plain": [
       "[('The Dark Knight', 4), ('Inception', 2), ('Interstellar', 1)]"
      ]
     },
     "execution_count": 242,
     "metadata": {},
     "output_type": "execute_result"
    }
   ],
   "source": [
    "rec = [('Interstellar', 1), ('The Dark Knight', 4), ('Inception', 2)]\n",
    "rec.sort(key=lambda x: x[1], reverse=True)\n",
    "rec"
   ]
  },
  {
   "cell_type": "code",
   "execution_count": null,
   "metadata": {},
   "outputs": [],
   "source": []
  },
  {
   "cell_type": "code",
   "execution_count": 227,
   "metadata": {},
   "outputs": [
    {
     "name": "stdout",
     "output_type": "stream",
     "text": [
      "Interstellar {'drama', 'adventure', 'sci-fi'}\n",
      "The Dark Knight {'drama', 'action'}\n",
      "Inception {'thriller', 'sci-fi'}\n"
     ]
    }
   ],
   "source": [
    "movies = {\n",
    "    \"Interstellar\": {\"sci-fi\", \"drama\", \"adventure\"},\n",
    "    \"The Dark Knight\": {\"action\", \"drama\"},\n",
    "    \"Inception\": {\"sci-fi\", \"thriller\"},\n",
    "    \"Finding Nemo\": {\"animation\", \"adventure\"},\n",
    "}\n",
    "\n",
    "# User's preferred tags\n",
    "user_tags = {\"sci-fi\", \"thriller\", \"action\"}\n",
    "\n",
    "for movie_name, tags_set in movies.items():\n",
    "    match_count = len(tags_set & user_tags)\n",
    "    if match_count > 0:\n",
    "        print(movie_name, tags_set)"
   ]
  },
  {
   "cell_type": "code",
   "execution_count": 220,
   "metadata": {},
   "outputs": [],
   "source": [
    "di1 = {'drama', 'adventure', 'sci-fi'}\n",
    "di2 = {\"sci-fi\", \"thriller\", \"action\"}"
   ]
  },
  {
   "cell_type": "code",
   "execution_count": 221,
   "metadata": {},
   "outputs": [
    {
     "data": {
      "text/plain": [
       "1"
      ]
     },
     "execution_count": 221,
     "metadata": {},
     "output_type": "execute_result"
    }
   ],
   "source": [
    "len(di1 & di2) # because action is sci-fi"
   ]
  },
  {
   "cell_type": "code",
   "execution_count": 222,
   "metadata": {},
   "outputs": [
    {
     "data": {
      "text/plain": [
       "{'sci-fi'}"
      ]
     },
     "execution_count": 222,
     "metadata": {},
     "output_type": "execute_result"
    }
   ],
   "source": [
    "di1 & di2"
   ]
  },
  {
   "cell_type": "code",
   "execution_count": 192,
   "metadata": {},
   "outputs": [
    {
     "name": "stdout",
     "output_type": "stream",
     "text": [
      "yes\n"
     ]
    }
   ],
   "source": [
    "if 'sci-fi' in {'drama', 'adventure', 'sci-fi'}:\n",
    "    print('yes')"
   ]
  },
  {
   "cell_type": "code",
   "execution_count": 193,
   "metadata": {},
   "outputs": [],
   "source": [
    "# To solve the \"Shortest Flight Route\" problem, we can use Dijkstra's Algorithm, which efficiently finds the shortest path in a weighted graph."
   ]
  },
  {
   "cell_type": "code",
   "execution_count": 194,
   "metadata": {},
   "outputs": [
    {
     "name": "stdout",
     "output_type": "stream",
     "text": [
      "Shortest route: NYC → LA → SF, Distance: 3400\n"
     ]
    }
   ],
   "source": [
    "import heapq\n",
    "\n",
    "def dijkstra(graph, start, destination):\n",
    "    # Priority queue (min-heap) to store (cost, city) pairs\n",
    "    priority_queue = [(0, start)]\n",
    "    # Distance dictionary to store the minimum cost to reach each city\n",
    "    distances = {city: float('inf') for city in graph}\n",
    "    distances[start] = 0\n",
    "    # Path dictionary to reconstruct the shortest route\n",
    "    previous_nodes = {}\n",
    "\n",
    "    while priority_queue:\n",
    "        current_distance, current_city = heapq.heappop(priority_queue)\n",
    "\n",
    "        # If we reached the destination, reconstruct the path\n",
    "        if current_city == destination:\n",
    "            path = []\n",
    "            while current_city:\n",
    "                path.append(current_city)\n",
    "                current_city = previous_nodes.get(current_city, None)\n",
    "            return path[::-1], distances[destination]\n",
    "\n",
    "        # Process neighbors\n",
    "        for neighbor, weight in graph[current_city].items():\n",
    "            new_distance = current_distance + weight\n",
    "            if new_distance < distances[neighbor]:\n",
    "                distances[neighbor] = new_distance\n",
    "                previous_nodes[neighbor] = current_city\n",
    "                heapq.heappush(priority_queue, (new_distance, neighbor))\n",
    "\n",
    "    return None, float('inf')  # No path found\n",
    "\n",
    "# Flight graph\n",
    "graph = {\n",
    "    \"NYC\": {\"LA\": 3000, \"Chicago\": 800},\n",
    "    \"LA\": {\"SF\": 400, \"Chicago\": 2000},\n",
    "    \"SF\": {\"Chicago\": 2100},\n",
    "    \"Chicago\": {\"Houston\": 1000},\n",
    "    \"Houston\": {\"NYC\": 1600}\n",
    "}\n",
    "\n",
    "# Define start and destination\n",
    "start = \"NYC\"\n",
    "destination = \"SF\"\n",
    "\n",
    "# Find shortest path\n",
    "shortest_path, min_distance = dijkstra(graph, start, destination)\n",
    "print(f\"Shortest route: {' → '.join(shortest_path)}, Distance: {min_distance}\")\n"
   ]
  },
  {
   "cell_type": "code",
   "execution_count": null,
   "metadata": {},
   "outputs": [],
   "source": []
  },
  {
   "cell_type": "code",
   "execution_count": 230,
   "metadata": {},
   "outputs": [],
   "source": [
    "#### maze\n",
    "# To solve the \"Maze Solver\" problem using Recursion & Backtracking,\n",
    "# we can use Depth-First Search (DFS) to explore the possible paths from the start (S) to the goal (G)."
   ]
  },
  {
   "cell_type": "code",
   "execution_count": 231,
   "metadata": {},
   "outputs": [
    {
     "name": "stdout",
     "output_type": "stream",
     "text": [
      "Path Found: [(0, 0), (0, 1), (1, 1), (2, 1), (2, 2), (2, 3), (1, 3), (0, 3), (0, 4)]\n"
     ]
    }
   ],
   "source": [
    "def find_path(maze):\n",
    "    rows, cols = len(maze), len(maze[0])\n",
    "    start, goal = None, None\n",
    "    \n",
    "    # Find the start (S) and goal (G) positions\n",
    "    for r in range(rows):\n",
    "        for c in range(cols):\n",
    "            if maze[r][c] == 'S':\n",
    "                start = (r, c)\n",
    "            elif maze[r][c] == 'G':\n",
    "                goal = (r, c)\n",
    "\n",
    "    if not start or not goal:\n",
    "        return \"No Start or Goal Found\"\n",
    "\n",
    "    path = []\n",
    "    visited = set()\n",
    "\n",
    "    def dfs(r, c):\n",
    "        if (r, c) == goal:\n",
    "            path.append((r, c))\n",
    "            return True\n",
    "\n",
    "        if (r < 0 or c < 0 or r >= rows or c >= cols or  # Out of bounds\n",
    "            maze[r][c] == '#' or (r, c) in visited):  # Wall or already visited\n",
    "            return False\n",
    "\n",
    "        visited.add((r, c))\n",
    "        path.append((r, c))\n",
    "\n",
    "        # Explore all possible directions (Right, Left, Down, Up)\n",
    "        if (dfs(r, c + 1) or dfs(r, c - 1) or dfs(r + 1, c) or dfs(r - 1, c)):\n",
    "            return True\n",
    "\n",
    "        # Backtrack if no path found\n",
    "        path.pop()\n",
    "        return False\n",
    "\n",
    "    if dfs(start[0], start[1]):\n",
    "        return path\n",
    "    else:\n",
    "        return \"No path found\"\n",
    "\n",
    "# Maze grid\n",
    "maze = [\n",
    "    ['S', '.', '#', '.', 'G'],\n",
    "    ['#', '.', '#', '.', '#'],\n",
    "    ['#', '.', '.', '.', '#'],\n",
    "    ['#', '#', '#', '.', '#']\n",
    "]\n",
    "\n",
    "# Solve the maze\n",
    "solution = find_path(maze)\n",
    "print(\"Path Found:\", solution)\n"
   ]
  },
  {
   "cell_type": "code",
   "execution_count": null,
   "metadata": {},
   "outputs": [],
   "source": []
  }
 ],
 "metadata": {
  "kernelspec": {
   "display_name": "Python 3",
   "language": "python",
   "name": "python3"
  },
  "language_info": {
   "codemirror_mode": {
    "name": "ipython",
    "version": 3
   },
   "file_extension": ".py",
   "mimetype": "text/x-python",
   "name": "python",
   "nbconvert_exporter": "python",
   "pygments_lexer": "ipython3",
   "version": "3.8.5"
  }
 },
 "nbformat": 4,
 "nbformat_minor": 4
}
