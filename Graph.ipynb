{
 "cells": [
  {
   "cell_type": "code",
   "execution_count": 1,
   "id": "af29ac50",
   "metadata": {},
   "outputs": [],
   "source": [
    "# graph"
   ]
  },
  {
   "cell_type": "code",
   "execution_count": 163,
   "id": "7b3a058d",
   "metadata": {},
   "outputs": [],
   "source": [
    "from collections import deque\n",
    "\n",
    "class Graph:\n",
    "    def __init__(self):\n",
    "        self.adj_list = {}\n",
    "\n",
    "    def add_vertex(self, vertex):\n",
    "        if vertex not in self.adj_list:\n",
    "            self.adj_list[vertex] = []\n",
    "\n",
    "    def add_edgs(self, v1, v2):\n",
    "        if v1 in self.adj_list and v2 in self.adj_list:\n",
    "            self.adj_list[v1].append(v2)\n",
    "            self.adj_list[v2].append(v1)\n",
    "            return True\n",
    "        return False\n",
    "\n",
    "    def add_bidirection_edge(self, v1, v2):\n",
    "        return self.add_edgs(v1, v2)\n",
    "\n",
    "    def delete_edge(self, v1, v2):\n",
    "        if v1 in self.adj_list and v2 in self.adj_list:\n",
    "            self.adj_list[v1].remove(v2)\n",
    "            self.adj_list[v2].remove(v1)\n",
    "            return True\n",
    "        return False\n",
    "\n",
    "    def delete_vertex(self, vertex):\n",
    "        if vertex in self.adj_list:\n",
    "            for other_vertex in self.adj_list[vertex]:\n",
    "                self.adj_list[other_vertex].remove(vertex)\n",
    "            del self.adj_list[vertex]\n",
    "            return True\n",
    "        return False\n",
    "\n",
    "    def print_list(self):\n",
    "        for vertex, edges in self.adj_list.items():\n",
    "            print(f\"{vertex} : {edges}\")\n",
    "\n",
    "    def shortest_path(self, start, end):\n",
    "        if start not in self.adj_list or end not in self.adj_list:\n",
    "            return None\n",
    "\n",
    "        queue = deque([(start, [start])])  # (current node, path taken)\n",
    "        visited = set()\n",
    "\n",
    "        while queue:\n",
    "            current, path = queue.popleft()\n",
    "\n",
    "            if current == end:\n",
    "                return path  # Return the path when the destination is reached\n",
    "\n",
    "            if current not in visited:\n",
    "                visited.add(current)\n",
    "                for neighbor in self.adj_list[current]:\n",
    "                    if neighbor not in visited:\n",
    "                        queue.append((neighbor, path + [neighbor]))\n",
    "\n",
    "        return None  # Return None if no path is found\n"
   ]
  },
  {
   "cell_type": "code",
   "execution_count": 167,
   "id": "d3c60564",
   "metadata": {},
   "outputs": [
    {
     "name": "stdout",
     "output_type": "stream",
     "text": [
      "A : ['B', 'C']\n",
      "B : ['A', 'D']\n",
      "C : ['A', 'D']\n",
      "D : ['B', 'C', 'E']\n",
      "E : ['D']\n"
     ]
    }
   ],
   "source": [
    "g = Graph()\n",
    "g.add_vertex('A')\n",
    "g.add_vertex('B')\n",
    "g.add_vertex('C')\n",
    "g.add_vertex('D')\n",
    "g.add_vertex('E')\n",
    "\n",
    "g.add_edgs('A', 'B')\n",
    "g.add_edgs('A', 'C')\n",
    "g.add_edgs('B', 'D')\n",
    "g.add_edgs('C', 'D')\n",
    "g.add_edgs('D', 'E')\n",
    "\n",
    "g.print_list()"
   ]
  },
  {
   "cell_type": "code",
   "execution_count": 171,
   "id": "d31de9d9",
   "metadata": {},
   "outputs": [
    {
     "name": "stdout",
     "output_type": "stream",
     "text": [
      "Shortest path from A to E: ['A', 'B', 'D']\n"
     ]
    }
   ],
   "source": [
    "print(\"Shortest path from A to E:\", g.shortest_path('A', 'D'))"
   ]
  },
  {
   "cell_type": "code",
   "execution_count": null,
   "id": "02b83f41",
   "metadata": {},
   "outputs": [],
   "source": []
  },
  {
   "cell_type": "code",
   "execution_count": 165,
   "id": "56abc109",
   "metadata": {},
   "outputs": [],
   "source": [
    "# graph.printv1()"
   ]
  },
  {
   "cell_type": "code",
   "execution_count": 166,
   "id": "16867a2d",
   "metadata": {},
   "outputs": [],
   "source": [
    "# graph.delete_edge('A', 'C')"
   ]
  },
  {
   "cell_type": "code",
   "execution_count": null,
   "id": "8e36a68a",
   "metadata": {},
   "outputs": [],
   "source": []
  },
  {
   "cell_type": "code",
   "execution_count": 153,
   "id": "3e0d853b",
   "metadata": {},
   "outputs": [
    {
     "data": {
      "text/plain": [
       "True"
      ]
     },
     "execution_count": 153,
     "metadata": {},
     "output_type": "execute_result"
    }
   ],
   "source": [
    "graph.delete_vertex('A')"
   ]
  },
  {
   "cell_type": "code",
   "execution_count": 154,
   "id": "8392cead",
   "metadata": {},
   "outputs": [
    {
     "name": "stdout",
     "output_type": "stream",
     "text": [
      "B : ['C']\n",
      "C : ['B']\n"
     ]
    }
   ],
   "source": [
    "graph.print_list()"
   ]
  },
  {
   "cell_type": "code",
   "execution_count": 86,
   "id": "90932738",
   "metadata": {},
   "outputs": [],
   "source": [
    "graph.add_bidirection_edge('A','C')"
   ]
  },
  {
   "cell_type": "code",
   "execution_count": 87,
   "id": "fe4d7eac",
   "metadata": {},
   "outputs": [
    {
     "name": "stdout",
     "output_type": "stream",
     "text": [
      "A : ['C', 'C']\n",
      "B : []\n",
      "C : ['A', 'A']\n"
     ]
    }
   ],
   "source": [
    "graph.print_list()"
   ]
  },
  {
   "cell_type": "code",
   "execution_count": null,
   "id": "8d1be3b4",
   "metadata": {},
   "outputs": [],
   "source": []
  }
 ],
 "metadata": {
  "kernelspec": {
   "display_name": "Python 3",
   "language": "python",
   "name": "python3"
  },
  "language_info": {
   "codemirror_mode": {
    "name": "ipython",
    "version": 3
   },
   "file_extension": ".py",
   "mimetype": "text/x-python",
   "name": "python",
   "nbconvert_exporter": "python",
   "pygments_lexer": "ipython3",
   "version": "3.8.8"
  }
 },
 "nbformat": 4,
 "nbformat_minor": 5
}
