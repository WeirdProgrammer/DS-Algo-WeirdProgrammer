{
 "cells": [
  {
   "cell_type": "markdown",
   "metadata": {},
   "source": []
  },
  {
   "cell_type": "markdown",
   "metadata": {},
   "source": [
    "# Arrays"
   ]
  },
  {
   "cell_type": "markdown",
   "metadata": {},
   "source": [
    "## Sorting"
   ]
  },
  {
   "cell_type": "code",
   "execution_count": 18,
   "metadata": {},
   "outputs": [],
   "source": [
    "# https://instabyte.io/p/dsa-master\n",
    "# https://instabyte.io/p/interview-master-100"
   ]
  },
  {
   "cell_type": "code",
   "execution_count": null,
   "metadata": {},
   "outputs": [],
   "source": []
  },
  {
   "cell_type": "code",
   "execution_count": null,
   "metadata": {},
   "outputs": [],
   "source": []
  },
  {
   "cell_type": "markdown",
   "metadata": {},
   "source": [
    "##  Searching"
   ]
  },
  {
   "cell_type": "code",
   "execution_count": 8,
   "metadata": {},
   "outputs": [],
   "source": [
    "# in binary search the array should be sorted\n",
    "arr = [1,2,3,4,5,6,7]"
   ]
  },
  {
   "cell_type": "code",
   "execution_count": 15,
   "metadata": {},
   "outputs": [],
   "source": [
    "def binary_search(arr, val):\n",
    "    mid = len(arr) // 2\n",
    "    if arr[mid] == val:\n",
    "        return True\n",
    "    \n",
    "    # get left portion\n",
    "    left = arr[:mid]\n",
    "    # get right portion\n",
    "    right = arr[mid:]\n",
    "    if arr[mid] > val:\n",
    "        # <--- go back\n",
    "        print(f'{arr[mid]} bigger than {val}')\n",
    "        return binary_search(left, val)\n",
    "    else:\n",
    "        print(f'{arr[mid]} less than {val}')\n",
    "        return binary_search(right, val)\n",
    "    \n",
    "    print(mid)"
   ]
  },
  {
   "cell_type": "code",
   "execution_count": 16,
   "metadata": {},
   "outputs": [
    {
     "name": "stdout",
     "output_type": "stream",
     "text": [
      "4 less than 5\n",
      "6 bigger than 5\n"
     ]
    },
    {
     "data": {
      "text/plain": [
       "True"
      ]
     },
     "execution_count": 16,
     "metadata": {},
     "output_type": "execute_result"
    }
   ],
   "source": [
    "binary_search(arr, 5)"
   ]
  },
  {
   "cell_type": "markdown",
   "metadata": {},
   "source": [
    "## Two Pointers"
   ]
  },
  {
   "cell_type": "code",
   "execution_count": 62,
   "metadata": {},
   "outputs": [],
   "source": [
    "# often for sorted arrays \n",
    "nums = [1,2,3,4,5,6,7]"
   ]
  },
  {
   "cell_type": "code",
   "execution_count": 63,
   "metadata": {},
   "outputs": [],
   "source": [
    "def findSum(nums, target):\n",
    "    left = 0\n",
    "    right = len(nums) - 1\n",
    "    \n",
    "    print(f'left : {left}, right : {right}')\n",
    "    \n",
    "    while left <= right:\n",
    "        if nums[left] + nums[right] == target:\n",
    "            return left, right\n",
    "        \n",
    "        if nums[left]+nums[right] > target:\n",
    "            right -= 1\n",
    "        else:\n",
    "            left += 1\n",
    "#     for i in range(len(nums)):\n",
    "#         pass"
   ]
  },
  {
   "cell_type": "code",
   "execution_count": 64,
   "metadata": {},
   "outputs": [
    {
     "name": "stdout",
     "output_type": "stream",
     "text": [
      "left : 0, right : 6\n"
     ]
    },
    {
     "data": {
      "text/plain": [
       "(1, 6)"
      ]
     },
     "execution_count": 64,
     "metadata": {},
     "output_type": "execute_result"
    }
   ],
   "source": [
    "findSum(nums, 9)"
   ]
  },
  {
   "cell_type": "code",
   "execution_count": 67,
   "metadata": {},
   "outputs": [],
   "source": [
    "def findSumOn2(nums, target):    \n",
    "    n = len(nums)\n",
    "    # Time O(n2)\n",
    "    \n",
    "    for i in range(n):\n",
    "        for j in range(i+1 , n):\n",
    "            if nums[i] + nums[j] == target:\n",
    "                return i, j"
   ]
  },
  {
   "cell_type": "code",
   "execution_count": 68,
   "metadata": {},
   "outputs": [
    {
     "data": {
      "text/plain": [
       "(1, 6)"
      ]
     },
     "execution_count": 68,
     "metadata": {},
     "output_type": "execute_result"
    }
   ],
   "source": [
    "findSumOn2(nums, 9)"
   ]
  },
  {
   "cell_type": "code",
   "execution_count": 42,
   "metadata": {},
   "outputs": [],
   "source": [
    "# should be sorted array\n",
    "arr = [1,1,2,3,3,5,6,7,7,8,8,8,11]"
   ]
  },
  {
   "cell_type": "code",
   "execution_count": 43,
   "metadata": {},
   "outputs": [],
   "source": [
    "def remove_duplicates(nums):\n",
    "    if not nums:\n",
    "        return 0\n",
    "    \n",
    "    i = 0  # Slow pointer (unique elements)\n",
    "    \n",
    "    for j in range(1, len(nums)):  # Fast pointer\n",
    "        if nums[j] != nums[i]:  \n",
    "            i += 1\n",
    "            nums[i] = nums[j]  # Overwrite duplicate\n",
    "        \n",
    "    return i + 1  # New length of the unique array\n",
    "\n",
    "# # Example:\n",
    "# nums = [1, 1, 2, 2, 3, 4, 4, 5]\n",
    "# new_length = remove_duplicates(nums)\n",
    "# print(nums[:new_length])  # Output: [1, 2, 3, 4, 5]\n"
   ]
  },
  {
   "cell_type": "code",
   "execution_count": 44,
   "metadata": {},
   "outputs": [
    {
     "data": {
      "text/plain": [
       "[1, 2, 3, 5, 6, 7, 8, 11]"
      ]
     },
     "execution_count": 44,
     "metadata": {},
     "output_type": "execute_result"
    }
   ],
   "source": [
    "newlen = remove_duplicates(arr)\n",
    "arr[:newlen] # not good"
   ]
  },
  {
   "cell_type": "code",
   "execution_count": 24,
   "metadata": {},
   "outputs": [],
   "source": [
    "def findDuplicate(arr):\n",
    "    seen = []\n",
    "    for i in range(len(arr)):\n",
    "        if arr[i] not in seen:\n",
    "            seen.append(arr[i])\n",
    "            \n",
    "    return seen"
   ]
  },
  {
   "cell_type": "code",
   "execution_count": 25,
   "metadata": {},
   "outputs": [
    {
     "data": {
      "text/plain": [
       "[1, 2, 3, 5, 6, 7, 8, 11]"
      ]
     },
     "execution_count": 25,
     "metadata": {},
     "output_type": "execute_result"
    }
   ],
   "source": [
    "findDuplicate(arr)"
   ]
  },
  {
   "cell_type": "code",
   "execution_count": 23,
   "metadata": {},
   "outputs": [],
   "source": [
    "#reverse string \n",
    "# s = ['h','a','l','l','a']\n",
    "s = ['c', 'a', 'r']"
   ]
  },
  {
   "cell_type": "code",
   "execution_count": 28,
   "metadata": {},
   "outputs": [],
   "source": [
    "# append from last\n",
    "def reverseString(s):\n",
    "    l = 0\n",
    "    r = len(s) - 1\n",
    "    res = []\n",
    "    while l <= r:\n",
    "        val = s[r]\n",
    "        print(f'val : {val}')\n",
    "        res.append(val)\n",
    "        r -= 1\n",
    "        \n",
    "    return res, s[::-1]\n",
    "            "
   ]
  },
  {
   "cell_type": "code",
   "execution_count": 29,
   "metadata": {},
   "outputs": [
    {
     "name": "stdout",
     "output_type": "stream",
     "text": [
      "val : r\n",
      "val : a\n",
      "val : c\n"
     ]
    },
    {
     "data": {
      "text/plain": [
       "(['r', 'a', 'c'], ['r', 'a', 'c'])"
      ]
     },
     "execution_count": 29,
     "metadata": {},
     "output_type": "execute_result"
    }
   ],
   "source": [
    "reverseString(s)"
   ]
  },
  {
   "cell_type": "code",
   "execution_count": null,
   "metadata": {},
   "outputs": [],
   "source": []
  },
  {
   "cell_type": "code",
   "execution_count": 34,
   "metadata": {},
   "outputs": [],
   "source": [
    "# swap\n",
    "def reverseStringSwap(s):\n",
    "    l = 0\n",
    "    r = len(s) - 1\n",
    "    res = []\n",
    "    while l <= r:\n",
    "#         s[l], s[r] = s[r], s[l]\n",
    "        s[r], s[l] = s[l], s[r]\n",
    "        l += 1\n",
    "        r -= 1\n",
    "        \n",
    "    return s"
   ]
  },
  {
   "cell_type": "code",
   "execution_count": 35,
   "metadata": {},
   "outputs": [
    {
     "data": {
      "text/plain": [
       "['r', 'a', 'c']"
      ]
     },
     "execution_count": 35,
     "metadata": {},
     "output_type": "execute_result"
    }
   ],
   "source": [
    "reverseStringSwap(s)"
   ]
  },
  {
   "cell_type": "code",
   "execution_count": 47,
   "metadata": {},
   "outputs": [],
   "source": [
    "# Sum Two\n",
    "nums = [2,3,7,8,11,15]\n",
    "target = 11"
   ]
  },
  {
   "cell_type": "code",
   "execution_count": 48,
   "metadata": {},
   "outputs": [],
   "source": [
    "def SumBasedK(nums, target):\n",
    "    l = 0\n",
    "    r = len(nums) - 1\n",
    "    \n",
    "    while l <= r:\n",
    "        if nums[l] + nums[r] == target:\n",
    "            return nums[l], nums[r], (l,r)\n",
    "        elif (nums[l] + nums[r]) > target:\n",
    "            r -= 1\n",
    "        else:\n",
    "            l += 1"
   ]
  },
  {
   "cell_type": "code",
   "execution_count": 49,
   "metadata": {},
   "outputs": [
    {
     "data": {
      "text/plain": [
       "(3, 8, (1, 3))"
      ]
     },
     "execution_count": 49,
     "metadata": {},
     "output_type": "execute_result"
    }
   ],
   "source": [
    "SumBasedK(nums, target)"
   ]
  },
  {
   "cell_type": "code",
   "execution_count": 59,
   "metadata": {},
   "outputs": [],
   "source": [
    "## triplets Sum to zer0\n",
    "nums = [-3,-3,-2,-1,0,1,2,2,3] # hard"
   ]
  },
  {
   "cell_type": "code",
   "execution_count": 57,
   "metadata": {},
   "outputs": [],
   "source": [
    "def TripletsZero(nums):\n",
    "    l = 0\n",
    "    low = 1\n",
    "    r = len(nums) - 1\n",
    "    resIndexList = []\n",
    "    for i in range(len(nums)):\n",
    "        if nums[i] > 0:\n",
    "            break\n",
    "        elif i > 0 and nums[i] == nums[i-1]: # -3 == -3\n",
    "            continue # restart the loop\n",
    "#         else:\n",
    "        lo, hi = i+1 , r\n",
    "        while lo < hi:\n",
    "            if nums[i] + nums[lo] + nums[hi] == 0:\n",
    "                resIndexList.append([nums[i] , nums[i+1] , nums[r]])\n",
    "                lo, hi = lo+1, hi-1\n",
    "                \n",
    "                while lo < hi and nums[lo] == nums[lo-1]:\n",
    "                    lo += 1\n",
    "                    \n",
    "                while lo < hi and nums[hi] == nums[hi+1]:\n",
    "                    hi -= 1\n",
    "            elif nums[i] + nums[lo] + nums[hi] < 0:\n",
    "                lo += 1\n",
    "            else: #nums[i] + nums[lo] + nums[hi] > 0:\n",
    "                hi -= 1\n",
    "                \n",
    "        return resIndexList"
   ]
  },
  {
   "cell_type": "code",
   "execution_count": 58,
   "metadata": {},
   "outputs": [
    {
     "data": {
      "text/plain": [
       "[[-3, -3, 3], [-3, -3, 3]]"
      ]
     },
     "execution_count": 58,
     "metadata": {},
     "output_type": "execute_result"
    }
   ],
   "source": [
    "TripletsZero(nums)"
   ]
  },
  {
   "cell_type": "code",
   "execution_count": 72,
   "metadata": {},
   "outputs": [],
   "source": [
    "# palindrome\n",
    "s = \"A man, a plan, a canal: Panama\"\n",
    "\n",
    "# s = \"a man a plan a canal Panama\""
   ]
  },
  {
   "cell_type": "code",
   "execution_count": 73,
   "metadata": {},
   "outputs": [],
   "source": [
    "def StringPal(s):\n",
    "    s = s.lower()\n",
    "    \n",
    "#     for i in s:\n",
    "#         if s in ':,?.':\n",
    "#             s.replace(i, '')\n",
    "\n",
    "#     s.strip()\n",
    "    s.replace(' ', '')\n",
    "    \n",
    "    return s"
   ]
  },
  {
   "cell_type": "code",
   "execution_count": 74,
   "metadata": {},
   "outputs": [
    {
     "data": {
      "text/plain": [
       "'a man, a plan, a canal: panama'"
      ]
     },
     "execution_count": 74,
     "metadata": {},
     "output_type": "execute_result"
    }
   ],
   "source": [
    "StringPal(s)"
   ]
  },
  {
   "cell_type": "code",
   "execution_count": 75,
   "metadata": {},
   "outputs": [],
   "source": [
    "def StringPointersPal(s):\n",
    "    l = 0\n",
    "    r = len(s) - 1\n",
    "    \n",
    "    while l < r:\n",
    "        if s[l].lower() == s[r].lower():\n",
    "            l += 1\n",
    "            r -= 1\n",
    "        elif s[l] in ':,?!':\n",
    "            l += 1\n",
    "        elif s[r] in ':,?!':\n",
    "            r -= 1\n",
    "        else:\n",
    "            return False\n",
    "        \n",
    "        return True"
   ]
  },
  {
   "cell_type": "code",
   "execution_count": 77,
   "metadata": {},
   "outputs": [
    {
     "data": {
      "text/plain": [
       "False"
      ]
     },
     "execution_count": 77,
     "metadata": {},
     "output_type": "execute_result"
    }
   ],
   "source": [
    "s = 'cars'\n",
    "StringPointersPal(s)"
   ]
  },
  {
   "cell_type": "code",
   "execution_count": 80,
   "metadata": {},
   "outputs": [],
   "source": [
    "def StringPointersPal(s):\n",
    "    l = 0\n",
    "    r = len(s) - 1\n",
    "    \n",
    "    while l < r:\n",
    "        if not s[l].isalnum():\n",
    "            l += 1\n",
    "            continue # restart the loop if laphabatic or nums\n",
    "            \n",
    "        if not s[r].isalnum():\n",
    "            r -= 1\n",
    "            continue # restart the loop\n",
    "            \n",
    "        if s[l].lower() != s[r].lower():\n",
    "            return False\n",
    "        \n",
    "        l += 1\n",
    "        r -= 1\n",
    "        \n",
    "    return True\n",
    "            \n",
    "        "
   ]
  },
  {
   "cell_type": "code",
   "execution_count": 81,
   "metadata": {},
   "outputs": [
    {
     "data": {
      "text/plain": [
       "True"
      ]
     },
     "execution_count": 81,
     "metadata": {},
     "output_type": "execute_result"
    }
   ],
   "source": [
    "s = \"A man, a plan, a canal: Panama\"\n",
    "StringPointersPal(s)"
   ]
  },
  {
   "cell_type": "code",
   "execution_count": 3,
   "metadata": {},
   "outputs": [],
   "source": [
    "# 4Sum\n",
    "nums = [1,0,-1,0,-2,2]\n",
    "target = 0"
   ]
  },
  {
   "cell_type": "code",
   "execution_count": 5,
   "metadata": {},
   "outputs": [],
   "source": [
    "def _4Sum(nums, target):\n",
    "    l = 0\n",
    "    r = len(nums) - 1\n",
    "    answer = []\n",
    "    nums.sort()\n",
    "    \n",
    "    while l < r:\n",
    "        if nums[l] + nums[l+1] + nums[r] + nums[r-1] == target:\n",
    "            return \n",
    "        \n",
    "        if nums[l] + nums[l+1] + nums[r] + nums[r-1] > 0:\n",
    "            l += 1\n",
    "            r -= 1"
   ]
  },
  {
   "cell_type": "code",
   "execution_count": 6,
   "metadata": {},
   "outputs": [
    {
     "ename": "KeyboardInterrupt",
     "evalue": "",
     "output_type": "error",
     "traceback": [
      "\u001b[1;31m---------------------------------------------------------------------------\u001b[0m",
      "\u001b[1;31mKeyboardInterrupt\u001b[0m                         Traceback (most recent call last)",
      "\u001b[1;32m<ipython-input-6-2e93168f9afb>\u001b[0m in \u001b[0;36m<module>\u001b[1;34m\u001b[0m\n\u001b[1;32m----> 1\u001b[1;33m \u001b[0m_4Sum\u001b[0m\u001b[1;33m(\u001b[0m\u001b[0mnums\u001b[0m\u001b[1;33m,\u001b[0m \u001b[0mtarget\u001b[0m\u001b[1;33m)\u001b[0m\u001b[1;33m\u001b[0m\u001b[1;33m\u001b[0m\u001b[0m\n\u001b[0m",
      "\u001b[1;32m<ipython-input-5-3343d24febd7>\u001b[0m in \u001b[0;36m_4Sum\u001b[1;34m(nums, target)\u001b[0m\n\u001b[0;32m      7\u001b[0m             \u001b[1;32mreturn\u001b[0m\u001b[1;33m\u001b[0m\u001b[1;33m\u001b[0m\u001b[0m\n\u001b[0;32m      8\u001b[0m \u001b[1;33m\u001b[0m\u001b[0m\n\u001b[1;32m----> 9\u001b[1;33m         \u001b[1;32mif\u001b[0m \u001b[0mnums\u001b[0m\u001b[1;33m[\u001b[0m\u001b[0ml\u001b[0m\u001b[1;33m]\u001b[0m \u001b[1;33m+\u001b[0m \u001b[0mnums\u001b[0m\u001b[1;33m[\u001b[0m\u001b[0ml\u001b[0m\u001b[1;33m+\u001b[0m\u001b[1;36m1\u001b[0m\u001b[1;33m]\u001b[0m \u001b[1;33m+\u001b[0m \u001b[0mnums\u001b[0m\u001b[1;33m[\u001b[0m\u001b[0mr\u001b[0m\u001b[1;33m]\u001b[0m \u001b[1;33m+\u001b[0m \u001b[0mnums\u001b[0m\u001b[1;33m[\u001b[0m\u001b[0mr\u001b[0m\u001b[1;33m-\u001b[0m\u001b[1;36m1\u001b[0m\u001b[1;33m]\u001b[0m \u001b[1;33m>\u001b[0m \u001b[1;36m0\u001b[0m\u001b[1;33m:\u001b[0m\u001b[1;33m\u001b[0m\u001b[1;33m\u001b[0m\u001b[0m\n\u001b[0m\u001b[0;32m     10\u001b[0m             \u001b[0ml\u001b[0m \u001b[1;33m+=\u001b[0m \u001b[1;36m1\u001b[0m\u001b[1;33m\u001b[0m\u001b[1;33m\u001b[0m\u001b[0m\n\u001b[0;32m     11\u001b[0m             \u001b[0mr\u001b[0m \u001b[1;33m-=\u001b[0m \u001b[1;36m1\u001b[0m\u001b[1;33m\u001b[0m\u001b[1;33m\u001b[0m\u001b[0m\n",
      "\u001b[1;31mKeyboardInterrupt\u001b[0m: "
     ]
    }
   ],
   "source": [
    "_4Sum(nums, target)"
   ]
  },
  {
   "cell_type": "code",
   "execution_count": null,
   "metadata": {},
   "outputs": [],
   "source": []
  },
  {
   "cell_type": "code",
   "execution_count": null,
   "metadata": {},
   "outputs": [],
   "source": []
  },
  {
   "cell_type": "code",
   "execution_count": null,
   "metadata": {},
   "outputs": [],
   "source": []
  },
  {
   "cell_type": "markdown",
   "metadata": {},
   "source": [
    "## Sliding Window"
   ]
  },
  {
   "cell_type": "code",
   "execution_count": 77,
   "metadata": {},
   "outputs": [],
   "source": [
    "# nums = [8,3,1,5,4,8,6,7,11]\n",
    "# k = 2\n",
    "nums = [8,3,-2,4,5,-1,0,5,3,9,-6]\n",
    "k = 5\n",
    "# find the max sum with k = 2"
   ]
  },
  {
   "cell_type": "code",
   "execution_count": 78,
   "metadata": {},
   "outputs": [],
   "source": [
    "def maxSum(nums, k, target=18):\n",
    "    left = 0\n",
    "    right = k\n",
    "    n = len(nums)\n",
    "    for i in range(n):\n",
    "        print(f'check :{nums[left:right]}')\n",
    "        if sum(nums[left:right]) == target:\n",
    "            return nums[left:right]\n",
    "        else:\n",
    "            left += 1\n",
    "            right += 1"
   ]
  },
  {
   "cell_type": "code",
   "execution_count": 80,
   "metadata": {},
   "outputs": [
    {
     "name": "stdout",
     "output_type": "stream",
     "text": [
      "check :[8, 3, -2, 4, 5]\n",
      "check :[3, -2, 4, 5, -1]\n",
      "check :[-2, 4, 5, -1, 0]\n",
      "check :[4, 5, -1, 0, 5]\n",
      "check :[5, -1, 0, 5, 3]\n",
      "check :[-1, 0, 5, 3, 9]\n",
      "check :[0, 5, 3, 9, -6]\n"
     ]
    },
    {
     "data": {
      "text/plain": [
       "[0, 5, 3, 9, -6]"
      ]
     },
     "execution_count": 80,
     "metadata": {},
     "output_type": "execute_result"
    }
   ],
   "source": [
    "maxSum(nums, k , 11)"
   ]
  },
  {
   "cell_type": "code",
   "execution_count": 93,
   "metadata": {},
   "outputs": [
    {
     "data": {
      "text/plain": [
       "[8, 3]"
      ]
     },
     "execution_count": 93,
     "metadata": {},
     "output_type": "execute_result"
    }
   ],
   "source": [
    "nums[0:2]#, sum(nums[0:2])"
   ]
  },
  {
   "cell_type": "code",
   "execution_count": null,
   "metadata": {},
   "outputs": [],
   "source": [
    "nums = [8,3,-2,4,5,-1,0,5,3,9,-6]"
   ]
  },
  {
   "cell_type": "code",
   "execution_count": 109,
   "metadata": {},
   "outputs": [],
   "source": [
    "def longestSubArrSum(nums, s=11):\n",
    "    r = 0\n",
    "    l = 1\n",
    "    summ = 0\n",
    "    indexs = []\n",
    "    for i in range(len(nums)):\n",
    "        if sum(nums[r:l]) > s:\n",
    "            r += 1\n",
    "        else:\n",
    "            indexs.append(nums[r:l])\n",
    "            l += 1\n",
    "            \n",
    "    return indexs"
   ]
  },
  {
   "cell_type": "code",
   "execution_count": 110,
   "metadata": {},
   "outputs": [
    {
     "data": {
      "text/plain": [
       "[[8],\n",
       " [8, 3],\n",
       " [8, 3, -2],\n",
       " [3, -2, 4],\n",
       " [3, -2, 4, 5],\n",
       " [3, -2, 4, 5, -1],\n",
       " [3, -2, 4, 5, -1, 0],\n",
       " [-2, 4, 5, -1, 0, 5]]"
      ]
     },
     "execution_count": 110,
     "metadata": {},
     "output_type": "execute_result"
    }
   ],
   "source": [
    "longestSubArrSum(nums)"
   ]
  },
  {
   "cell_type": "code",
   "execution_count": 119,
   "metadata": {},
   "outputs": [],
   "source": [
    "nums = [4,5,2,0,1,8,12,3,6,9]"
   ]
  },
  {
   "cell_type": "code",
   "execution_count": 126,
   "metadata": {},
   "outputs": [],
   "source": [
    "def longestSubArrSum(nums, s=15):\n",
    "    l = -1\n",
    "    cur = 0\n",
    "    best = 0\n",
    "    for r in range(len(nums)):\n",
    "        cur += nums[r]\n",
    "        while cur >= s:\n",
    "            l += 1\n",
    "            cur -= nums[l]\n",
    "            \n",
    "        best = max(best, r - l)\n",
    "            \n",
    "    return best"
   ]
  },
  {
   "cell_type": "code",
   "execution_count": 127,
   "metadata": {},
   "outputs": [
    {
     "data": {
      "text/plain": [
       "5"
      ]
     },
     "execution_count": 127,
     "metadata": {},
     "output_type": "execute_result"
    }
   ],
   "source": [
    "longestSubArrSum(nums)"
   ]
  },
  {
   "cell_type": "code",
   "execution_count": null,
   "metadata": {},
   "outputs": [],
   "source": []
  },
  {
   "cell_type": "markdown",
   "metadata": {},
   "source": [
    "# Linked Lists"
   ]
  },
  {
   "cell_type": "code",
   "execution_count": 7,
   "metadata": {},
   "outputs": [],
   "source": [
    "## Traversal"
   ]
  },
  {
   "cell_type": "code",
   "execution_count": null,
   "metadata": {},
   "outputs": [],
   "source": []
  },
  {
   "cell_type": "code",
   "execution_count": null,
   "metadata": {},
   "outputs": [],
   "source": []
  },
  {
   "cell_type": "code",
   "execution_count": 8,
   "metadata": {},
   "outputs": [],
   "source": [
    "sentence = \"emocleW to sraWedoC\""
   ]
  },
  {
   "cell_type": "code",
   "execution_count": 13,
   "metadata": {},
   "outputs": [],
   "source": [
    "def spin_words(sentence):\n",
    "    # Your code goes here\n",
    "    \n",
    "#     # Your code goes here\n",
    "#     words = sentence.split(' ')\n",
    "#     word = [word[::-1] if len(word) >= 5 else word for word in words]\n",
    "#     return \" \".join(word)\n",
    "    \n",
    "    sen = sentence.split(' ')\n",
    "    full = ''\n",
    "    for word in sen:\n",
    "        if len(word) >= 5:\n",
    "            full += word[::-1] + ' '\n",
    "        else:\n",
    "            full += word + ' '\n",
    "            \n",
    "    return full.strip()"
   ]
  },
  {
   "cell_type": "code",
   "execution_count": 14,
   "metadata": {},
   "outputs": [
    {
     "data": {
      "text/plain": [
       "'Welcome to CodeWars'"
      ]
     },
     "execution_count": 14,
     "metadata": {},
     "output_type": "execute_result"
    }
   ],
   "source": [
    "spin_words(sentence)"
   ]
  },
  {
   "cell_type": "code",
   "execution_count": null,
   "metadata": {},
   "outputs": [],
   "source": []
  }
 ],
 "metadata": {
  "kernelspec": {
   "display_name": "Python 3",
   "language": "python",
   "name": "python3"
  },
  "language_info": {
   "codemirror_mode": {
    "name": "ipython",
    "version": 3
   },
   "file_extension": ".py",
   "mimetype": "text/x-python",
   "name": "python",
   "nbconvert_exporter": "python",
   "pygments_lexer": "ipython3",
   "version": "3.8.5"
  }
 },
 "nbformat": 4,
 "nbformat_minor": 4
}
