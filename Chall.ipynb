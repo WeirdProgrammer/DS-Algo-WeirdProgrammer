{
 "cells": [
  {
   "cell_type": "code",
   "execution_count": 137,
   "id": "10aa0e15",
   "metadata": {},
   "outputs": [],
   "source": [
    "def solution(text, ending):\n",
    "    # your code here...\n",
    "    return text.endswith(ending)"
   ]
  },
  {
   "cell_type": "code",
   "execution_count": 138,
   "id": "23f604a8",
   "metadata": {},
   "outputs": [],
   "source": [
    "def filter_list(l):\n",
    "  'return a new list with the strings filtered out'\n",
    "  return [i for i in l if not isinstance(i, str)]"
   ]
  },
  {
   "cell_type": "code",
   "execution_count": 139,
   "id": "ec17a457",
   "metadata": {},
   "outputs": [],
   "source": [
    "string = 'Indivisibilities'\n",
    "char_list = list(string.lower())"
   ]
  },
  {
   "cell_type": "code",
   "execution_count": 140,
   "id": "6fc6acc7",
   "metadata": {},
   "outputs": [
    {
     "data": {
      "text/plain": [
       "16"
      ]
     },
     "execution_count": 140,
     "metadata": {},
     "output_type": "execute_result"
    }
   ],
   "source": [
    "len(char_list)"
   ]
  },
  {
   "cell_type": "code",
   "execution_count": 141,
   "id": "e179c3ed",
   "metadata": {},
   "outputs": [
    {
     "data": {
      "text/plain": [
       "9"
      ]
     },
     "execution_count": 141,
     "metadata": {},
     "output_type": "execute_result"
    }
   ],
   "source": [
    "len(set(char_list))"
   ]
  },
  {
   "cell_type": "code",
   "execution_count": 142,
   "id": "235cdc72",
   "metadata": {},
   "outputs": [],
   "source": [
    "def duplicate_count(text):\n",
    "    # Your code goes here\n",
    "    char_list = list(text.lower())\n",
    "    occured = 0\n",
    "    seen = []\n",
    "    for i in range(len(set(char_list))):\n",
    "        if (char_list.count(char_list[i]) > 1) and char_list[i] not in seen:\n",
    "            seen.append(char_list[i])\n",
    "            occured += 1\n",
    "                      \n",
    "    return occured"
   ]
  },
  {
   "cell_type": "code",
   "execution_count": 143,
   "id": "aed57fdf",
   "metadata": {},
   "outputs": [
    {
     "data": {
      "text/plain": [
       "2"
      ]
     },
     "execution_count": 143,
     "metadata": {},
     "output_type": "execute_result"
    }
   ],
   "source": [
    "duplicate_count(string)"
   ]
  },
  {
   "cell_type": "code",
   "execution_count": 144,
   "id": "443b383a",
   "metadata": {},
   "outputs": [
    {
     "data": {
      "text/plain": [
       "{'b', 'd', 'e', 'i', 'l', 'n', 's', 't', 'v'}"
      ]
     },
     "execution_count": 144,
     "metadata": {},
     "output_type": "execute_result"
    }
   ],
   "source": [
    "set(char_list)"
   ]
  },
  {
   "cell_type": "code",
   "execution_count": 145,
   "id": "7dd0cf7c",
   "metadata": {},
   "outputs": [],
   "source": [
    "def duplicate_count(text):\n",
    "    # Your code goes here\n",
    "    text = text.lower()\n",
    "    mydict = {}\n",
    "    occured = 0\n",
    "    for letter in text:\n",
    "        mydict[letter] = mydict.get(letter, 0) + 1\n",
    "        \n",
    "    for letter, amount in mydict.items():\n",
    "        if amount > 1:\n",
    "            occured += 1\n",
    "        \n",
    "    return occured\n",
    "    "
   ]
  },
  {
   "cell_type": "code",
   "execution_count": 146,
   "id": "f2d897c5",
   "metadata": {},
   "outputs": [
    {
     "data": {
      "text/plain": [
       "2"
      ]
     },
     "execution_count": 146,
     "metadata": {},
     "output_type": "execute_result"
    }
   ],
   "source": [
    "duplicate_count(string)"
   ]
  },
  {
   "cell_type": "code",
   "execution_count": 147,
   "id": "7627b790",
   "metadata": {},
   "outputs": [],
   "source": [
    "def duplicate_count(s):\n",
    "    return len([c for c in set(s.lower()) if s.lower().count(c)>1])"
   ]
  },
  {
   "cell_type": "code",
   "execution_count": 148,
   "id": "3ba43b83",
   "metadata": {},
   "outputs": [],
   "source": [
    "s = \"bitcoin take over the world maybe who knows perhaps\""
   ]
  },
  {
   "cell_type": "code",
   "execution_count": 149,
   "id": "c3d34b56",
   "metadata": {},
   "outputs": [],
   "source": [
    "def find_short(s):\n",
    "    # your code here\n",
    "    sentence = s.split()\n",
    "    seen = []\n",
    "    min_word = len(sentence[0])\n",
    "    for word in sentence:\n",
    "        if word not in seen:\n",
    "            seen.append(word)\n",
    "            min_word = min(min_word, len(word))\n",
    "        \n",
    "    return min_word # l: shortest word length"
   ]
  },
  {
   "cell_type": "code",
   "execution_count": 150,
   "id": "933d5aa2",
   "metadata": {},
   "outputs": [
    {
     "data": {
      "text/plain": [
       "3"
      ]
     },
     "execution_count": 150,
     "metadata": {},
     "output_type": "execute_result"
    }
   ],
   "source": [
    "find_short(s)"
   ]
  },
  {
   "cell_type": "code",
   "execution_count": 151,
   "id": "4410a0c3",
   "metadata": {},
   "outputs": [],
   "source": [
    "def find_short(s):\n",
    "    return min(len(x) for x in s.split())"
   ]
  },
  {
   "cell_type": "code",
   "execution_count": 152,
   "id": "f7eed76e",
   "metadata": {},
   "outputs": [],
   "source": [
    "string_to_split = 'The_stealth_warrior'\n"
   ]
  },
  {
   "cell_type": "code",
   "execution_count": 153,
   "id": "c2fd799d",
   "metadata": {},
   "outputs": [],
   "source": [
    "sen = ''.join(sen)"
   ]
  },
  {
   "cell_type": "code",
   "execution_count": 154,
   "id": "6949cf10",
   "metadata": {},
   "outputs": [
    {
     "data": {
      "text/plain": [
       "'Thestealthwarrior'"
      ]
     },
     "execution_count": 154,
     "metadata": {},
     "output_type": "execute_result"
    }
   ],
   "source": [
    "sen"
   ]
  },
  {
   "cell_type": "code",
   "execution_count": 155,
   "id": "6ffd96e0",
   "metadata": {},
   "outputs": [],
   "source": [
    "def to_camel_case(text):\n",
    "    removed = text.replace('-', ' ').replace('_', ' ').split()\n",
    "    if len(removed) == 0:\n",
    "        return ''\n",
    "    return removed[0]+ ''.join([x.capitalize() for x in removed[1:]])"
   ]
  },
  {
   "cell_type": "code",
   "execution_count": 156,
   "id": "2a46c60c",
   "metadata": {},
   "outputs": [],
   "source": [
    "def to_camel_case(text):\n",
    "    import re\n",
    "    sen = re.split('-|_| ; |, |\\*|\\n', text)\n",
    "    sentenc = [word.capitalize() if k > 0 else word for k, word in enumerate(sen)]\n",
    "    return ''.join(sentenc)"
   ]
  },
  {
   "cell_type": "code",
   "execution_count": 157,
   "id": "e0e8254a",
   "metadata": {},
   "outputs": [],
   "source": [
    "def add_binary(a, b):\n",
    "    return bin(a + b)[2:] "
   ]
  },
  {
   "cell_type": "code",
   "execution_count": 158,
   "id": "8d290044",
   "metadata": {},
   "outputs": [
    {
     "data": {
      "text/plain": [
       "'10'"
      ]
     },
     "execution_count": 158,
     "metadata": {},
     "output_type": "execute_result"
    }
   ],
   "source": [
    "add_binary(1,1)"
   ]
  },
  {
   "cell_type": "code",
   "execution_count": 159,
   "id": "c216780c",
   "metadata": {},
   "outputs": [],
   "source": [
    "import math\n",
    "\n",
    "def find_next_square(sq):\n",
    "    root = math.sqrt(sq)\n",
    "    if root.is_integer():  # Check if sq is a perfect square\n",
    "        next_square = (int(root) + 1) ** 2  # Get the next perfect square\n",
    "        return next_square\n",
    "    return -1  # Return -1 if sq is not a perfect square"
   ]
  },
  {
   "cell_type": "code",
   "execution_count": 160,
   "id": "a4ee18e5",
   "metadata": {},
   "outputs": [],
   "source": [
    "def timeConversion(s):\n",
    "    # Write your code here\n",
    "    # Extract the period (AM/PM) and split the time components\n",
    "    period = s[-2:]  # Get 'AM' or 'PM'\n",
    "    time_components = s[:-2].split(\":\")  # Remove AM/PM and split into parts\n",
    "\n",
    "    hours, minutes, seconds = map(int, time_components)  # Convert to integers\n",
    "\n",
    "    if period == \"AM\":\n",
    "        if hours == 12:\n",
    "            hours = 0  # Convert 12 AM to 00\n",
    "    else:  # PM case\n",
    "        if hours != 12:\n",
    "            hours += 12  # Convert to 24-hour format (except for 12 PM)\n",
    "\n",
    "    return f\"{hours:02}:{minutes:02}:{seconds:02}\" "
   ]
  },
  {
   "cell_type": "code",
   "execution_count": 161,
   "id": "249f76ab",
   "metadata": {},
   "outputs": [
    {
     "data": {
      "text/plain": [
       "'00:00:00'"
      ]
     },
     "execution_count": 161,
     "metadata": {},
     "output_type": "execute_result"
    }
   ],
   "source": [
    "a = '12:00:00AM'\n",
    "timeConversion(a)"
   ]
  },
  {
   "cell_type": "code",
   "execution_count": 162,
   "id": "59b11118",
   "metadata": {},
   "outputs": [],
   "source": [
    "ar = [10, 20, 20, 10, 10, 30, 50, 10, 20]\n",
    "n = 9"
   ]
  },
  {
   "cell_type": "code",
   "execution_count": 163,
   "id": "b624e952",
   "metadata": {},
   "outputs": [],
   "source": [
    "def sockMerchant(n, ar):\n",
    "    # Write your code here\n",
    "    seen = []\n",
    "    pairs_count = 0\n",
    "    for i in range(len(ar)):\n",
    "        if ar.count(ar[i]) >= 2 and ar[i] not in seen:\n",
    "            # print(ar[i], ar.count(ar[i]))\n",
    "            seen.append(ar[i])\n",
    "            pairs_count += ar.count(ar[i]) // 2\n",
    "            \n",
    "    return pairs_count"
   ]
  },
  {
   "cell_type": "code",
   "execution_count": 164,
   "id": "6a0966bd",
   "metadata": {},
   "outputs": [],
   "source": [
    "from math import floor\n",
    "\n",
    "def findPairs(n, ar):\n",
    "    seen = []\n",
    "    for i in range(len(ar)):\n",
    "        if ar.count(ar[i]) >= 2 and ar[i] not in seen:\n",
    "            print(ar[i], ar.count(ar[i]))\n",
    "            print(ar.count(ar[i]) // 2)\n",
    "            seen.append(ar[i])"
   ]
  },
  {
   "cell_type": "code",
   "execution_count": 165,
   "id": "a73dc314",
   "metadata": {},
   "outputs": [
    {
     "name": "stdout",
     "output_type": "stream",
     "text": [
      "10 4\n",
      "2\n",
      "20 3\n",
      "1\n"
     ]
    }
   ],
   "source": [
    "findPairs(n,ar)"
   ]
  },
  {
   "cell_type": "code",
   "execution_count": 166,
   "id": "ef5756bd",
   "metadata": {},
   "outputs": [
    {
     "data": {
      "text/plain": [
       "2.0"
      ]
     },
     "execution_count": 166,
     "metadata": {},
     "output_type": "execute_result"
    }
   ],
   "source": [
    "4 / 2"
   ]
  },
  {
   "cell_type": "code",
   "execution_count": 167,
   "id": "c8fdb1a0",
   "metadata": {},
   "outputs": [
    {
     "data": {
      "text/plain": [
       "1.5"
      ]
     },
     "execution_count": 167,
     "metadata": {},
     "output_type": "execute_result"
    }
   ],
   "source": [
    "3 / 2"
   ]
  },
  {
   "cell_type": "code",
   "execution_count": 168,
   "id": "6fc6b224",
   "metadata": {},
   "outputs": [],
   "source": [
    "from math import floor"
   ]
  },
  {
   "cell_type": "code",
   "execution_count": 169,
   "id": "bc2c5dfb",
   "metadata": {},
   "outputs": [
    {
     "data": {
      "text/plain": [
       "1"
      ]
     },
     "execution_count": 169,
     "metadata": {},
     "output_type": "execute_result"
    }
   ],
   "source": [
    "floor(3/2)"
   ]
  },
  {
   "cell_type": "code",
   "execution_count": 170,
   "id": "61b7474f",
   "metadata": {},
   "outputs": [],
   "source": [
    "p = 2\n",
    "n = 6\n",
    "def pageCount(n, p):\n",
    "    # From the front: Each turn flips two pages, so p//2 gives turns needed\n",
    "    front_turns = p // 2\n",
    "\n",
    "    # From the back: (n//2 - p//2) gives the minimum turns from the end\n",
    "    back_turns = (n // 2) - (p // 2)\n",
    "\n",
    "    # Return the minimum of the two approaches\n",
    "    return min(front_turns, back_turns)"
   ]
  },
  {
   "cell_type": "code",
   "execution_count": 171,
   "id": "c1c3da67",
   "metadata": {},
   "outputs": [
    {
     "data": {
      "text/plain": [
       "1"
      ]
     },
     "execution_count": 171,
     "metadata": {},
     "output_type": "execute_result"
    }
   ],
   "source": [
    "pageCount(n, p)"
   ]
  },
  {
   "cell_type": "code",
   "execution_count": 172,
   "id": "0e6a9af5",
   "metadata": {},
   "outputs": [],
   "source": [
    "def possible_subset(arr): # DFS\n",
    "    n = len(arr)\n",
    "    res, sol = [], []\n",
    "    \n",
    "    def backtrack(i):\n",
    "        if i == n:\n",
    "            res.append(sol[:]) # copy of sol\n",
    "            return\n",
    "        \n",
    "        # dont pick\n",
    "        print(f'dont pick : {i}')\n",
    "        backtrack(i+1)\n",
    "        \n",
    "        # pick\n",
    "        print(f'pick : {i}')\n",
    "        sol.append(arr[i])\n",
    "        backtrack(i+1)\n",
    "        sol.pop() # last val\n",
    "        \n",
    "    backtrack(0)\n",
    "    \n",
    "    return res\n",
    "\n",
    "arr = [1,2,3]"
   ]
  },
  {
   "cell_type": "code",
   "execution_count": 173,
   "id": "bce1b0e7",
   "metadata": {},
   "outputs": [
    {
     "name": "stdout",
     "output_type": "stream",
     "text": [
      "dont pick : 0\n",
      "dont pick : 1\n",
      "dont pick : 2\n",
      "pick : 2\n",
      "pick : 1\n",
      "dont pick : 2\n",
      "pick : 2\n",
      "pick : 0\n",
      "dont pick : 1\n",
      "dont pick : 2\n",
      "pick : 2\n",
      "pick : 1\n",
      "dont pick : 2\n",
      "pick : 2\n"
     ]
    },
    {
     "data": {
      "text/plain": [
       "[[], [3], [2], [2, 3], [1], [1, 3], [1, 2], [1, 2, 3]]"
      ]
     },
     "execution_count": 173,
     "metadata": {},
     "output_type": "execute_result"
    }
   ],
   "source": [
    "possible_subset(arr)"
   ]
  },
  {
   "cell_type": "code",
   "execution_count": null,
   "id": "122a70a7",
   "metadata": {},
   "outputs": [],
   "source": []
  },
  {
   "cell_type": "code",
   "execution_count": null,
   "id": "73c86fa9",
   "metadata": {},
   "outputs": [],
   "source": []
  }
 ],
 "metadata": {
  "kernelspec": {
   "display_name": "Python 3",
   "language": "python",
   "name": "python3"
  },
  "language_info": {
   "codemirror_mode": {
    "name": "ipython",
    "version": 3
   },
   "file_extension": ".py",
   "mimetype": "text/x-python",
   "name": "python",
   "nbconvert_exporter": "python",
   "pygments_lexer": "ipython3",
   "version": "3.8.8"
  }
 },
 "nbformat": 4,
 "nbformat_minor": 5
}
