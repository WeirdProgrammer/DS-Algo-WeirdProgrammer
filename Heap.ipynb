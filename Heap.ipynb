{
 "cells": [
  {
   "cell_type": "code",
   "execution_count": 1,
   "metadata": {},
   "outputs": [],
   "source": [
    "# heap"
   ]
  },
  {
   "cell_type": "code",
   "execution_count": 4,
   "metadata": {},
   "outputs": [],
   "source": [
    "class MaxHeap:\n",
    "    def __init__(self):\n",
    "        self.heap = []\n",
    "        \n",
    "    def _left_child(self, index):\n",
    "        return 2 * index + 1\n",
    "    \n",
    "    def _right_child(self, index):\n",
    "        return 2 * index + 2\n",
    "    \n",
    "    def _parent(self, index):\n",
    "        return (index - 1) // 2\n",
    "    \n",
    "    def _swap(self, index1, index2):\n",
    "        self.heap[index1], self.heap[index2] = self.heap[index2], self.heap[index1]\n",
    "        \n",
    "    def insert(self, val):\n",
    "        self.heap.append(val)\n",
    "        current = len(self.heap) - 1\n",
    "        # after it will keep swaping until the tree start from top to bottom\n",
    "        # the index should graeter than zero and if the parent is less than child\n",
    "        while current > 0 and self.heap[current] > self.heap[self._parent(current)]: \n",
    "            self._swap(current, self._parent(current))\n",
    "            current = self._parent(current)\n",
    "    \n",
    "    def remove(self):\n",
    "        # remove is only remove the top wether is max or min heap\n",
    "        if len(self.heap) == 0:\n",
    "            return None\n",
    "        \n",
    "        if len(self.heap) == 1:\n",
    "            return self.heap.pop()\n",
    "        \n",
    "        max_value = self.heap[0]\n",
    "        self.heap[0] = self.heap.pop()\n",
    "        self._sink_down(0)\n",
    "        \n",
    "        return max_value\n",
    "    \n",
    "    def _sink_down(self, index): # used to organize the list after remove\n",
    "        max_index = index\n",
    "        while True:\n",
    "            left_index = self._left_child(index)\n",
    "            right_index = self._right_child(index)\n",
    "            \n",
    "            if self.heap[left_index] > self.heap[max_index] and (left_index < len(self.heap)):\n",
    "                max_index = left_index\n",
    "            \n",
    "            if self.heap[right_index] > self.heap[max_index] and (right_index < len(self.heap)):\n",
    "                max_index = left_index\n",
    "                \n",
    "            if max_index != index:\n",
    "                self._swap(index, max_index)\n",
    "                index = max_index\n",
    "            else:\n",
    "                return"
   ]
  },
  {
   "cell_type": "code",
   "execution_count": 21,
   "metadata": {},
   "outputs": [],
   "source": [
    "heapy = MaxHeap()\n",
    "heapy.heap.append(99)\n",
    "heapy.heap.append(72)\n",
    "heapy.heap.append(61)\n",
    "heapy.heap.append(58)"
   ]
  },
  {
   "cell_type": "code",
   "execution_count": 22,
   "metadata": {},
   "outputs": [],
   "source": [
    "#          100\n",
    "#     99       75\n",
    "# 58  72     61   18"
   ]
  },
  {
   "cell_type": "code",
   "execution_count": 23,
   "metadata": {},
   "outputs": [
    {
     "data": {
      "text/plain": [
       "72"
      ]
     },
     "execution_count": 23,
     "metadata": {},
     "output_type": "execute_result"
    }
   ],
   "source": [
    "heapy.heap[heapy._left_child(0)]"
   ]
  },
  {
   "cell_type": "code",
   "execution_count": 24,
   "metadata": {},
   "outputs": [],
   "source": [
    "heapy.insert(100)"
   ]
  },
  {
   "cell_type": "code",
   "execution_count": 25,
   "metadata": {},
   "outputs": [
    {
     "data": {
      "text/plain": [
       "[100, 99, 61, 58, 72]"
      ]
     },
     "execution_count": 25,
     "metadata": {},
     "output_type": "execute_result"
    }
   ],
   "source": [
    "heapy.heap"
   ]
  },
  {
   "cell_type": "code",
   "execution_count": null,
   "metadata": {},
   "outputs": [],
   "source": []
  }
 ],
 "metadata": {
  "kernelspec": {
   "display_name": "Python 3",
   "language": "python",
   "name": "python3"
  },
  "language_info": {
   "codemirror_mode": {
    "name": "ipython",
    "version": 3
   },
   "file_extension": ".py",
   "mimetype": "text/x-python",
   "name": "python",
   "nbconvert_exporter": "python",
   "pygments_lexer": "ipython3",
   "version": "3.8.5"
  }
 },
 "nbformat": 4,
 "nbformat_minor": 4
}
